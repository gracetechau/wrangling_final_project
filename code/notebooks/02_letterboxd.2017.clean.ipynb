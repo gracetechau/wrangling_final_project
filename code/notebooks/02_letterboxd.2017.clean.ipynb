{
 "cells": [
  {
   "cell_type": "markdown",
   "id": "2c9cbcb1-76fc-4318-b5f8-b4e3a5a61cd2",
   "metadata": {},
   "source": [
    "# Grace Techau\n",
    "## Box Office Revenue & Letterboxd Ratings Project \n",
    "### NOTEBOOK 2 \n",
    "### Cleaning Letterboxd Movie Data - 2017"
   ]
  },
  {
   "cell_type": "code",
   "execution_count": 2,
   "id": "4de9f000-66d1-4563-bbf6-b06a615fd71b",
   "metadata": {},
   "outputs": [],
   "source": [
    "#import all required packages \n",
    "import pandas as pd \n",
    "import re "
   ]
  },
  {
   "cell_type": "markdown",
   "id": "c6e44afa-021a-44a3-a4bb-180ef6ce8d06",
   "metadata": {},
   "source": [
    "### Merge raw scraped data files for Letterboxd movies in 2017"
   ]
  },
  {
   "cell_type": "markdown",
   "id": "0ec843b9-414a-4118-b01d-869ea352bb41",
   "metadata": {},
   "source": [
    "The top 25% most popular Letterboxd movies in 2017 were scraped in four parts and were saved in seperate CSV files. The breakdown of pages scraped per file is below: \n",
    "- Pages 1 to 37.5 are captured in 'letterboxd_movie_data_2017_part1.1.csv'\n",
    "- Pages 37.5 to 42.5 are captued in 'letterboxd_movie_data_2017_part1.2.csv'\n",
    "- Pages 42.5 to 55.5 are captured in 'letterboxd_movie_data_2017_part1.3.csv'\n",
    "- Pages 55.5 - 66 are captured in 'letterboxd_movie_data_2017_part1.4.csv''\n",
    "\n",
    "These CSV files need to be merged into one complete 25% most popular 2017 Letterboxd movies Pandas data frame where all the data can be cleaned.  "
   ]
  },
  {
   "cell_type": "code",
   "execution_count": 5,
   "id": "08b86fe0-4393-4fb9-b84a-70410d536d77",
   "metadata": {},
   "outputs": [
    {
     "name": "stdout",
     "output_type": "stream",
     "text": [
      "Number of movies in 2017 part 1: 2622\n"
     ]
    }
   ],
   "source": [
    "# Read in 2017 scraping part 1 to a pandas data frame \n",
    "\n",
    "raw_2017_1 = pd.read_csv(\"letterboxd_movie_data_2017_raw_1.csv\", encoding='utf-8')\n",
    "\n",
    "print(f\"Number of movies in 2017 part 1: {len(raw_2017_1)}\")"
   ]
  },
  {
   "cell_type": "code",
   "execution_count": 6,
   "id": "a9f1e16f-ac20-4303-b24a-93d4a3034314",
   "metadata": {},
   "outputs": [
    {
     "name": "stdout",
     "output_type": "stream",
     "text": [
      "Number of movies in 2017 part 2: 380\n"
     ]
    }
   ],
   "source": [
    "# Read in 2017 scraping part 2 to a pandas data frame \n",
    "\n",
    "raw_2017_2 = pd.read_csv(\"letterboxd_movie_data_2017_raw_2.csv\", encoding='utf-8')\n",
    "\n",
    "print(f\"Number of movies in 2017 part 2: {len(raw_2017_2)}\")"
   ]
  },
  {
   "cell_type": "code",
   "execution_count": 7,
   "id": "094202a9-9087-4665-9001-3523907d61b5",
   "metadata": {},
   "outputs": [
    {
     "name": "stdout",
     "output_type": "stream",
     "text": [
      "Number of movies in 2017 part 3: 944\n"
     ]
    }
   ],
   "source": [
    "# Read in 2017 scraping part 3 to a pandas data frame \n",
    "\n",
    "raw_2017_3 = pd.read_csv(\"letterboxd_movie_data_2017_raw_3.csv\", encoding='utf-8')\n",
    "\n",
    "print(f\"Number of movies in 2017 part 3: {len(raw_2017_3)}\")"
   ]
  },
  {
   "cell_type": "code",
   "execution_count": 8,
   "id": "a0ee7ea1-1c58-4f82-b1ae-f1580e97f5fd",
   "metadata": {},
   "outputs": [
    {
     "name": "stdout",
     "output_type": "stream",
     "text": [
      "Number of movies in 2017 part 4: 864\n"
     ]
    }
   ],
   "source": [
    "# Read in 2017 scraping part 4 to a pandas data frame \n",
    "\n",
    "raw_2017_4 = pd.read_csv(\"letterboxd_movie_data_2017_raw_4.csv\", encoding='utf-8')\n",
    "\n",
    "print(f\"Number of movies in 2017 part 4: {len(raw_2017_4)}\")"
   ]
  },
  {
   "cell_type": "code",
   "execution_count": 9,
   "id": "7bbcad04-4151-4a5d-9845-91927fa01cc8",
   "metadata": {},
   "outputs": [
    {
     "name": "stdout",
     "output_type": "stream",
     "text": [
      "Total number of movies in 2017: 4810\n",
      "--------------------------------------------------\n"
     ]
    },
    {
     "data": {
      "text/html": [
       "<div>\n",
       "<style scoped>\n",
       "    .dataframe tbody tr th:only-of-type {\n",
       "        vertical-align: middle;\n",
       "    }\n",
       "\n",
       "    .dataframe tbody tr th {\n",
       "        vertical-align: top;\n",
       "    }\n",
       "\n",
       "    .dataframe thead th {\n",
       "        text-align: right;\n",
       "    }\n",
       "</style>\n",
       "<table border=\"1\" class=\"dataframe\">\n",
       "  <thead>\n",
       "    <tr style=\"text-align: right;\">\n",
       "      <th></th>\n",
       "      <th>title</th>\n",
       "      <th>year</th>\n",
       "      <th>number_ratings</th>\n",
       "      <th>average_rating</th>\n",
       "      <th>length</th>\n",
       "      <th>genres</th>\n",
       "    </tr>\n",
       "  </thead>\n",
       "  <tbody>\n",
       "    <tr>\n",
       "      <th>0</th>\n",
       "      <td>Get Out</td>\n",
       "      <td>2017.0</td>\n",
       "      <td>Weighted average of 4.16 based on 2,706,282 ra...</td>\n",
       "      <td>4.2</td>\n",
       "      <td>104 mins   More at IMDB TMDB</td>\n",
       "      <td>Horror, Mystery, Thriller, Horror, The Undead ...</td>\n",
       "    </tr>\n",
       "    <tr>\n",
       "      <th>1</th>\n",
       "      <td>Lady Bird</td>\n",
       "      <td>2017.0</td>\n",
       "      <td>Weighted average of 3.85 based on 2,062,281 ra...</td>\n",
       "      <td>3.8</td>\n",
       "      <td>94 mins   More at IMDB TMDB</td>\n",
       "      <td>Comedy, Drama, Moving Relationship Stories, Un...</td>\n",
       "    </tr>\n",
       "    <tr>\n",
       "      <th>2</th>\n",
       "      <td>Call Me by Your Name</td>\n",
       "      <td>2017.0</td>\n",
       "      <td>Weighted average of 3.85 based on 1,687,099 ra...</td>\n",
       "      <td>3.9</td>\n",
       "      <td>132 mins   More at IMDB TMDB</td>\n",
       "      <td>Romance, Drama, Moving Relationship Stories, H...</td>\n",
       "    </tr>\n",
       "    <tr>\n",
       "      <th>3</th>\n",
       "      <td>Baby Driver</td>\n",
       "      <td>2017.0</td>\n",
       "      <td>Weighted average of 3.71 based on 1,933,993 ra...</td>\n",
       "      <td>3.7</td>\n",
       "      <td>113 mins   More at IMDB TMDB</td>\n",
       "      <td>Crime, Action, Crime, Drugs And Gangsters, Son...</td>\n",
       "    </tr>\n",
       "    <tr>\n",
       "      <th>4</th>\n",
       "      <td>Blade Runner 2049</td>\n",
       "      <td>2017.0</td>\n",
       "      <td>Weighted average of 4.12 based on 1,411,904 ra...</td>\n",
       "      <td>4.1</td>\n",
       "      <td>164 mins   More at IMDB TMDB</td>\n",
       "      <td>Science Fiction, Drama, Humanity And The World...</td>\n",
       "    </tr>\n",
       "  </tbody>\n",
       "</table>\n",
       "</div>"
      ],
      "text/plain": [
       "                  title    year  \\\n",
       "0               Get Out  2017.0   \n",
       "1             Lady Bird  2017.0   \n",
       "2  Call Me by Your Name  2017.0   \n",
       "3           Baby Driver  2017.0   \n",
       "4     Blade Runner 2049  2017.0   \n",
       "\n",
       "                                      number_ratings average_rating  \\\n",
       "0  Weighted average of 4.16 based on 2,706,282 ra...            4.2   \n",
       "1  Weighted average of 3.85 based on 2,062,281 ra...            3.8   \n",
       "2  Weighted average of 3.85 based on 1,687,099 ra...            3.9   \n",
       "3  Weighted average of 3.71 based on 1,933,993 ra...            3.7   \n",
       "4  Weighted average of 4.12 based on 1,411,904 ra...            4.1   \n",
       "\n",
       "                         length  \\\n",
       "0  104 mins   More at IMDB TMDB   \n",
       "1   94 mins   More at IMDB TMDB   \n",
       "2  132 mins   More at IMDB TMDB   \n",
       "3  113 mins   More at IMDB TMDB   \n",
       "4  164 mins   More at IMDB TMDB   \n",
       "\n",
       "                                              genres  \n",
       "0  Horror, Mystery, Thriller, Horror, The Undead ...  \n",
       "1  Comedy, Drama, Moving Relationship Stories, Un...  \n",
       "2  Romance, Drama, Moving Relationship Stories, H...  \n",
       "3  Crime, Action, Crime, Drugs And Gangsters, Son...  \n",
       "4  Science Fiction, Drama, Humanity And The World...  "
      ]
     },
     "metadata": {},
     "output_type": "display_data"
    }
   ],
   "source": [
    "# Merge the different data frames to one collective 2017 pandas data frame \n",
    "\n",
    "raw_movie_data_2017 = pd.concat([raw_2017_1, raw_2017_2, raw_2017_3, raw_2017_4], axis=0, ignore_index=True)\n",
    "\n",
    "print(f\"Total number of movies in 2017: {len(raw_movie_data_2017)}\")\n",
    "print(\"-\"*50)\n",
    "display(raw_movie_data_2017.head(5))"
   ]
  },
  {
   "cell_type": "markdown",
   "id": "15ddc450-e103-4e87-ae38-03060a8c5139",
   "metadata": {},
   "source": [
    "### Clean complete 2017 Letterboxd movie data set "
   ]
  },
  {
   "cell_type": "code",
   "execution_count": 11,
   "id": "ef047a84-294e-4662-9613-58aae2b30258",
   "metadata": {},
   "outputs": [],
   "source": [
    "# Make a copy of the raw data frame for cleaning\n",
    "clean_movie_data_2017 = raw_movie_data_2017.copy()"
   ]
  },
  {
   "cell_type": "markdown",
   "id": "9721c9e1-eabf-4262-b810-7ae1a1d8028d",
   "metadata": {},
   "source": [
    "Since the 2017 Letterboxd movie data was scraped in batches and some of those batches ended in the middle of a page, there are duplicates present. I scraped the ending page of each batch as the starting page of the next batch to make sure all movies were scraped. Now those duplicates can be removed. "
   ]
  },
  {
   "cell_type": "code",
   "execution_count": 13,
   "id": "5bf4bd2d-2e57-42b7-8930-ad49a967461f",
   "metadata": {},
   "outputs": [
    {
     "name": "stdout",
     "output_type": "stream",
     "text": [
      "Total duplicate records in raw 2017 data frame: 125\n",
      "--------------------------------------------------\n",
      "Total duplicate records in clean 2017 data frame: 0\n"
     ]
    }
   ],
   "source": [
    "duplicates_raw = raw_movie_data_2017[raw_movie_data_2017.duplicated(keep=False)]\n",
    "print(f\"Total duplicate records in raw 2017 data frame: {len(duplicates_raw)}\")\n",
    "print(\"-\"*50)\n",
    "\n",
    "clean_movie_data_2017 = clean_movie_data_2017.drop_duplicates(keep=False)\n",
    "\n",
    "duplicates_clean = clean_movie_data_2017[clean_movie_data_2017.duplicated(keep=False)]\n",
    "print(f\"Total duplicate records in clean 2017 data frame: {len(duplicates_clean)}\")"
   ]
  },
  {
   "cell_type": "markdown",
   "id": "bbe9b5d3-d079-4b9b-a502-03103a863252",
   "metadata": {},
   "source": [
    "The analysis for this project is utilizing the rating data from Letterboxd, therefore any movies where the rating wasn't available are not relevant and can be dropped. "
   ]
  },
  {
   "cell_type": "code",
   "execution_count": 15,
   "id": "7328f6c4-5b99-4650-885f-94e3cf0dc6b6",
   "metadata": {},
   "outputs": [
    {
     "name": "stdout",
     "output_type": "stream",
     "text": [
      "# rows where no average rating and number ratings was available was available\n",
      "--------------------------------------------------\n"
     ]
    },
    {
     "data": {
      "text/plain": [
       "1433"
      ]
     },
     "metadata": {},
     "output_type": "display_data"
    },
    {
     "name": "stdout",
     "output_type": "stream",
     "text": [
      "\n",
      "\n",
      "length of the data frame after dropping rows with no rating data\n",
      "--------------------------------------------------\n",
      "3252\n"
     ]
    }
   ],
   "source": [
    "no_rating_data = clean_movie_data_2017[(clean_movie_data_2017['average_rating'] == 'No average rating available') & (clean_movie_data_2017['number_ratings'] == 'No number of ratings available')].index\n",
    "\n",
    "print(\"# rows where no average rating and number ratings was available was available\")\n",
    "print(\"-\"*50)\n",
    "display(len(clean_movie_data_2017.loc[no_rating_data]))\n",
    "\n",
    "### Drop these rows \n",
    "clean_movie_data_2017 = clean_movie_data_2017.drop(no_rating_data)\n",
    "\n",
    "print(\"\\n\")\n",
    "print(\"length of the data frame after dropping rows with no rating data\")\n",
    "print(\"-\"*50)\n",
    "print(len(clean_movie_data_2017))"
   ]
  },
  {
   "cell_type": "markdown",
   "id": "a0500f7c-c679-47aa-9534-58f6260ab6ec",
   "metadata": {},
   "source": [
    "Remove text from 'length' column so that only the minutes numerical value is present. \\\n",
    "For example changing '164 mins More at IMDB TMDB' to '164'"
   ]
  },
  {
   "cell_type": "code",
   "execution_count": 17,
   "id": "62673d09-a3ad-43a3-890d-338e5c540396",
   "metadata": {},
   "outputs": [
    {
     "name": "stdout",
     "output_type": "stream",
     "text": [
      "length column before cleaning\n",
      "--------------------------------------------------\n"
     ]
    },
    {
     "data": {
      "text/plain": [
       "0    104 mins   More at IMDB TMDB\n",
       "1     94 mins   More at IMDB TMDB\n",
       "2    132 mins   More at IMDB TMDB\n",
       "3    113 mins   More at IMDB TMDB\n",
       "4    164 mins   More at IMDB TMDB\n",
       "5    105 mins   More at IMDB TMDB\n",
       "6    133 mins   More at IMDB TMDB\n",
       "7    131 mins   More at IMDB TMDB\n",
       "8    135 mins   More at IMDB TMDB\n",
       "9    107 mins   More at IMDB TMDB\n",
       "Name: length, dtype: object"
      ]
     },
     "metadata": {},
     "output_type": "display_data"
    },
    {
     "name": "stdout",
     "output_type": "stream",
     "text": [
      "\n",
      "\n",
      "length column after cleaning\n",
      "--------------------------------------------------\n"
     ]
    },
    {
     "data": {
      "text/plain": [
       "0    104\n",
       "1     94\n",
       "2    132\n",
       "3    113\n",
       "4    164\n",
       "5    105\n",
       "6    133\n",
       "7    131\n",
       "8    135\n",
       "9    107\n",
       "Name: length, dtype: object"
      ]
     },
     "metadata": {},
     "output_type": "display_data"
    }
   ],
   "source": [
    "# Keep only the numeric value from the string of text in the length column\n",
    "clean_movie_data_2017.loc[:, 'length'] = clean_movie_data_2017['length'].str.replace(r'\\D', '', regex=True)\n",
    "\n",
    "print(\"length column before cleaning\")\n",
    "print(\"-\"*50)\n",
    "display(raw_movie_data_2017['length'].head(10))\n",
    "print(\"\\n\")\n",
    "print(\"length column after cleaning\")\n",
    "print(\"-\"*50)\n",
    "display(clean_movie_data_2017['length'].head(10))"
   ]
  },
  {
   "cell_type": "markdown",
   "id": "4d90bbf0-018c-4619-ad38-e25a7a33be2a",
   "metadata": {},
   "source": [
    "Remove text from 'number_ratings' column to include only the numerical value for the number of ratings. \\\n",
    "For example changing 'Weighted average of 3.03 based on 288 ratings' to '288'"
   ]
  },
  {
   "cell_type": "code",
   "execution_count": 19,
   "id": "1bead13f-7838-4aee-b020-0f7fd2bf1492",
   "metadata": {},
   "outputs": [
    {
     "name": "stdout",
     "output_type": "stream",
     "text": [
      "number_ratings column before cleaning\n",
      "--------------------------------------------------\n"
     ]
    },
    {
     "data": {
      "text/plain": [
       "0    Weighted average of 4.16 based on 2,706,282 ra...\n",
       "1    Weighted average of 3.85 based on 2,062,281 ra...\n",
       "2    Weighted average of 3.85 based on 1,687,099 ra...\n",
       "3    Weighted average of 3.71 based on 1,933,993 ra...\n",
       "4    Weighted average of 4.12 based on 1,411,904 ra...\n",
       "5    Weighted average of 4.12 based on 1,729,448 ra...\n",
       "6    Weighted average of 3.47 based on 1,688,069 ra...\n",
       "7    Weighted average of 3.72 based on 1,565,028 ra...\n",
       "8    Weighted average of 3.43 based on 1,553,979 ra...\n",
       "9    Weighted average of 3.77 based on 1,295,362 ra...\n",
       "Name: number_ratings, dtype: object"
      ]
     },
     "metadata": {},
     "output_type": "display_data"
    },
    {
     "name": "stdout",
     "output_type": "stream",
     "text": [
      "\n",
      "\n",
      "number_ratings column after cleaning\n",
      "--------------------------------------------------\n"
     ]
    },
    {
     "data": {
      "text/plain": [
       "0    2706282\n",
       "1    2062281\n",
       "2    1687099\n",
       "3    1933993\n",
       "4    1411904\n",
       "5    1729448\n",
       "6    1688069\n",
       "7    1565028\n",
       "8    1553979\n",
       "9    1295362\n",
       "Name: number_ratings, dtype: object"
      ]
     },
     "metadata": {},
     "output_type": "display_data"
    }
   ],
   "source": [
    "# using pandas .str.extract() method to keep only the numerical value after string of text 'based on'\n",
    "\n",
    "clean_movie_data_2017['number_ratings'] = clean_movie_data_2017['number_ratings'].str.extract(r'based on ([\\d,]+)').replace({',': ''}, regex=True)\n",
    "\n",
    "print(\"number_ratings column before cleaning\")\n",
    "print(\"-\"*50)\n",
    "display(raw_movie_data_2017['number_ratings'].head(10))\n",
    "print(\"\\n\")\n",
    "print(\"number_ratings column after cleaning\")\n",
    "print(\"-\"*50)\n",
    "display(clean_movie_data_2017['number_ratings'].head(10))"
   ]
  },
  {
   "cell_type": "markdown",
   "id": "6025fa99-f13a-40ad-ac29-61d7630f3423",
   "metadata": {},
   "source": [
    "Some movies have many genres (10+), for the scope of this project only keeping the first three genres is relevant. "
   ]
  },
  {
   "cell_type": "code",
   "execution_count": 21,
   "id": "7d90b07b-2d2f-402c-bff9-dcfc5b316652",
   "metadata": {},
   "outputs": [
    {
     "name": "stdout",
     "output_type": "stream",
     "text": [
      "genres column before cleaning\n",
      "--------------------------------------------------\n"
     ]
    },
    {
     "data": {
      "text/plain": [
       "0    Horror, Mystery, Thriller, Horror, The Undead ...\n",
       "1    Comedy, Drama, Moving Relationship Stories, Un...\n",
       "2    Romance, Drama, Moving Relationship Stories, H...\n",
       "3    Crime, Action, Crime, Drugs And Gangsters, Son...\n",
       "4    Science Fiction, Drama, Humanity And The World...\n",
       "5    Adventure, Animation, Music, Family, Moving Re...\n",
       "6    Action, Drama, Adventure, Science Fiction, Epi...\n",
       "7    Adventure, Action, Science Fiction, Epic Heroe...\n",
       "8    Horror, Horror, The Undead And Monster Classic...\n",
       "9    Action, Drama, War, War And Historical Adventu...\n",
       "Name: genres, dtype: object"
      ]
     },
     "metadata": {},
     "output_type": "display_data"
    },
    {
     "name": "stdout",
     "output_type": "stream",
     "text": [
      "\n",
      "\n",
      "genres column after cleaning\n",
      "--------------------------------------------------\n"
     ]
    },
    {
     "data": {
      "text/plain": [
       "0                            Horror, Mystery, Thriller\n",
       "1           Comedy, Drama, Moving Relationship Stories\n",
       "2          Romance, Drama, Moving Relationship Stories\n",
       "3                   Crime, Action, Drugs And Gangsters\n",
       "4    Science Fiction, Drama, Humanity And The World...\n",
       "5                          Adventure, Animation, Music\n",
       "6                             Action, Drama, Adventure\n",
       "7                   Adventure, Action, Science Fiction\n",
       "8    Horror, The Undead And Monster Classics, Inten...\n",
       "9                                   Action, Drama, War\n",
       "Name: genres, dtype: object"
      ]
     },
     "metadata": {},
     "output_type": "display_data"
    }
   ],
   "source": [
    "def clean_genres(genre_str):\n",
    "    genres_list = genre_str.split(',')\n",
    "\n",
    "    # remove duplicates while preserving order \n",
    "    unique_genres = list(dict.fromkeys(genre.strip() for genre in genres_list)) \n",
    "    \n",
    "    # return only the first three unique genres \n",
    "    return ', '.join(unique_genres[:3])\n",
    "\n",
    "clean_movie_data_2017['genres'] = clean_movie_data_2017['genres'].apply(clean_genres)\n",
    "\n",
    "print(\"genres column before cleaning\")\n",
    "print(\"-\"*50)\n",
    "display(raw_movie_data_2017['genres'].head(10))\n",
    "print(\"\\n\")\n",
    "\n",
    "print(\"genres column after cleaning\")\n",
    "print(\"-\"*50)\n",
    "display(clean_movie_data_2017['genres'].head(10))"
   ]
  },
  {
   "cell_type": "markdown",
   "id": "95686a24-d265-4210-b6ed-c4e5763e36fc",
   "metadata": {},
   "source": [
    "Correct all data types. "
   ]
  },
  {
   "cell_type": "code",
   "execution_count": 23,
   "id": "8c2e8fea-81df-4a9e-8266-99813fcd77e3",
   "metadata": {},
   "outputs": [
    {
     "name": "stdout",
     "output_type": "stream",
     "text": [
      "data types before cleaning\n",
      "--------------------------------------------------\n",
      "title              object\n",
      "year              float64\n",
      "number_ratings     object\n",
      "average_rating     object\n",
      "length             object\n",
      "genres             object\n",
      "dtype: object\n",
      "\n",
      "\n",
      "data types after cleaning\n",
      "--------------------------------------------------\n",
      "title              object\n",
      "year                int32\n",
      "number_ratings      int32\n",
      "average_rating    float64\n",
      "length              int32\n",
      "genres             object\n",
      "dtype: object\n"
     ]
    }
   ],
   "source": [
    "print(\"data types before cleaning\")\n",
    "print(\"-\"*50)\n",
    "print(raw_movie_data_2017.dtypes)\n",
    "\n",
    "# Remove any white space from all columns with object data type \n",
    "clean_movie_data_2017['title'] = clean_movie_data_2017['title'].str.strip()\n",
    "clean_movie_data_2017['number_ratings'] = clean_movie_data_2017['number_ratings'].str.strip()\n",
    "clean_movie_data_2017['average_rating'] = clean_movie_data_2017['average_rating'].str.strip()\n",
    "clean_movie_data_2017['length'] = clean_movie_data_2017['length'].str.strip()\n",
    "clean_movie_data_2017['genres'] = clean_movie_data_2017['genres'].str.strip()\n",
    "\n",
    "# Convert neccessary columns to numeric data type \n",
    "clean_movie_data_2017['year'] = clean_movie_data_2017['year'].astype(int)\n",
    "clean_movie_data_2017['number_ratings'] = clean_movie_data_2017['number_ratings'].astype(int)\n",
    "clean_movie_data_2017['average_rating'] = clean_movie_data_2017['average_rating'].astype(float)\n",
    "\n",
    "# There are some rows that have empty strings for length - convert these to 0's\n",
    "clean_movie_data_2017['length'] = clean_movie_data_2017['length'].replace('', 0)\n",
    "clean_movie_data_2017['length'] = clean_movie_data_2017['length'].astype(int)\n",
    "\n",
    "print(\"\\n\")\n",
    "print(\"data types after cleaning\")\n",
    "print(\"-\"*50)\n",
    "print(clean_movie_data_2017.dtypes)"
   ]
  },
  {
   "cell_type": "markdown",
   "id": "cf1f47b4-523d-416e-a32b-462bc2cfe010",
   "metadata": {},
   "source": [
    "### Final Comparison of Clean and Raw Data Frames "
   ]
  },
  {
   "cell_type": "code",
   "execution_count": 25,
   "id": "5e843ba9-e586-4cd4-9ed7-d6296e31775d",
   "metadata": {},
   "outputs": [
    {
     "name": "stdout",
     "output_type": "stream",
     "text": [
      "Length of raw data frame: 4810\n",
      "--------------------------------------------------\n"
     ]
    },
    {
     "data": {
      "text/html": [
       "<div>\n",
       "<style scoped>\n",
       "    .dataframe tbody tr th:only-of-type {\n",
       "        vertical-align: middle;\n",
       "    }\n",
       "\n",
       "    .dataframe tbody tr th {\n",
       "        vertical-align: top;\n",
       "    }\n",
       "\n",
       "    .dataframe thead th {\n",
       "        text-align: right;\n",
       "    }\n",
       "</style>\n",
       "<table border=\"1\" class=\"dataframe\">\n",
       "  <thead>\n",
       "    <tr style=\"text-align: right;\">\n",
       "      <th></th>\n",
       "      <th>title</th>\n",
       "      <th>year</th>\n",
       "      <th>number_ratings</th>\n",
       "      <th>average_rating</th>\n",
       "      <th>length</th>\n",
       "      <th>genres</th>\n",
       "    </tr>\n",
       "  </thead>\n",
       "  <tbody>\n",
       "    <tr>\n",
       "      <th>0</th>\n",
       "      <td>Get Out</td>\n",
       "      <td>2017.0</td>\n",
       "      <td>Weighted average of 4.16 based on 2,706,282 ra...</td>\n",
       "      <td>4.2</td>\n",
       "      <td>104 mins   More at IMDB TMDB</td>\n",
       "      <td>Horror, Mystery, Thriller, Horror, The Undead ...</td>\n",
       "    </tr>\n",
       "    <tr>\n",
       "      <th>1</th>\n",
       "      <td>Lady Bird</td>\n",
       "      <td>2017.0</td>\n",
       "      <td>Weighted average of 3.85 based on 2,062,281 ra...</td>\n",
       "      <td>3.8</td>\n",
       "      <td>94 mins   More at IMDB TMDB</td>\n",
       "      <td>Comedy, Drama, Moving Relationship Stories, Un...</td>\n",
       "    </tr>\n",
       "    <tr>\n",
       "      <th>2</th>\n",
       "      <td>Call Me by Your Name</td>\n",
       "      <td>2017.0</td>\n",
       "      <td>Weighted average of 3.85 based on 1,687,099 ra...</td>\n",
       "      <td>3.9</td>\n",
       "      <td>132 mins   More at IMDB TMDB</td>\n",
       "      <td>Romance, Drama, Moving Relationship Stories, H...</td>\n",
       "    </tr>\n",
       "    <tr>\n",
       "      <th>3</th>\n",
       "      <td>Baby Driver</td>\n",
       "      <td>2017.0</td>\n",
       "      <td>Weighted average of 3.71 based on 1,933,993 ra...</td>\n",
       "      <td>3.7</td>\n",
       "      <td>113 mins   More at IMDB TMDB</td>\n",
       "      <td>Crime, Action, Crime, Drugs And Gangsters, Son...</td>\n",
       "    </tr>\n",
       "    <tr>\n",
       "      <th>4</th>\n",
       "      <td>Blade Runner 2049</td>\n",
       "      <td>2017.0</td>\n",
       "      <td>Weighted average of 4.12 based on 1,411,904 ra...</td>\n",
       "      <td>4.1</td>\n",
       "      <td>164 mins   More at IMDB TMDB</td>\n",
       "      <td>Science Fiction, Drama, Humanity And The World...</td>\n",
       "    </tr>\n",
       "  </tbody>\n",
       "</table>\n",
       "</div>"
      ],
      "text/plain": [
       "                  title    year  \\\n",
       "0               Get Out  2017.0   \n",
       "1             Lady Bird  2017.0   \n",
       "2  Call Me by Your Name  2017.0   \n",
       "3           Baby Driver  2017.0   \n",
       "4     Blade Runner 2049  2017.0   \n",
       "\n",
       "                                      number_ratings average_rating  \\\n",
       "0  Weighted average of 4.16 based on 2,706,282 ra...            4.2   \n",
       "1  Weighted average of 3.85 based on 2,062,281 ra...            3.8   \n",
       "2  Weighted average of 3.85 based on 1,687,099 ra...            3.9   \n",
       "3  Weighted average of 3.71 based on 1,933,993 ra...            3.7   \n",
       "4  Weighted average of 4.12 based on 1,411,904 ra...            4.1   \n",
       "\n",
       "                         length  \\\n",
       "0  104 mins   More at IMDB TMDB   \n",
       "1   94 mins   More at IMDB TMDB   \n",
       "2  132 mins   More at IMDB TMDB   \n",
       "3  113 mins   More at IMDB TMDB   \n",
       "4  164 mins   More at IMDB TMDB   \n",
       "\n",
       "                                              genres  \n",
       "0  Horror, Mystery, Thriller, Horror, The Undead ...  \n",
       "1  Comedy, Drama, Moving Relationship Stories, Un...  \n",
       "2  Romance, Drama, Moving Relationship Stories, H...  \n",
       "3  Crime, Action, Crime, Drugs And Gangsters, Son...  \n",
       "4  Science Fiction, Drama, Humanity And The World...  "
      ]
     },
     "metadata": {},
     "output_type": "display_data"
    },
    {
     "name": "stdout",
     "output_type": "stream",
     "text": [
      "\n",
      "\n",
      "Length of clean data frame: 3252\n",
      "--------------------------------------------------\n"
     ]
    },
    {
     "data": {
      "text/html": [
       "<div>\n",
       "<style scoped>\n",
       "    .dataframe tbody tr th:only-of-type {\n",
       "        vertical-align: middle;\n",
       "    }\n",
       "\n",
       "    .dataframe tbody tr th {\n",
       "        vertical-align: top;\n",
       "    }\n",
       "\n",
       "    .dataframe thead th {\n",
       "        text-align: right;\n",
       "    }\n",
       "</style>\n",
       "<table border=\"1\" class=\"dataframe\">\n",
       "  <thead>\n",
       "    <tr style=\"text-align: right;\">\n",
       "      <th></th>\n",
       "      <th>title</th>\n",
       "      <th>year</th>\n",
       "      <th>number_ratings</th>\n",
       "      <th>average_rating</th>\n",
       "      <th>length</th>\n",
       "      <th>genres</th>\n",
       "    </tr>\n",
       "  </thead>\n",
       "  <tbody>\n",
       "    <tr>\n",
       "      <th>0</th>\n",
       "      <td>Get Out</td>\n",
       "      <td>2017</td>\n",
       "      <td>2706282</td>\n",
       "      <td>4.2</td>\n",
       "      <td>104</td>\n",
       "      <td>Horror, Mystery, Thriller</td>\n",
       "    </tr>\n",
       "    <tr>\n",
       "      <th>1</th>\n",
       "      <td>Lady Bird</td>\n",
       "      <td>2017</td>\n",
       "      <td>2062281</td>\n",
       "      <td>3.8</td>\n",
       "      <td>94</td>\n",
       "      <td>Comedy, Drama, Moving Relationship Stories</td>\n",
       "    </tr>\n",
       "    <tr>\n",
       "      <th>2</th>\n",
       "      <td>Call Me by Your Name</td>\n",
       "      <td>2017</td>\n",
       "      <td>1687099</td>\n",
       "      <td>3.9</td>\n",
       "      <td>132</td>\n",
       "      <td>Romance, Drama, Moving Relationship Stories</td>\n",
       "    </tr>\n",
       "    <tr>\n",
       "      <th>3</th>\n",
       "      <td>Baby Driver</td>\n",
       "      <td>2017</td>\n",
       "      <td>1933993</td>\n",
       "      <td>3.7</td>\n",
       "      <td>113</td>\n",
       "      <td>Crime, Action, Drugs And Gangsters</td>\n",
       "    </tr>\n",
       "    <tr>\n",
       "      <th>4</th>\n",
       "      <td>Blade Runner 2049</td>\n",
       "      <td>2017</td>\n",
       "      <td>1411904</td>\n",
       "      <td>4.1</td>\n",
       "      <td>164</td>\n",
       "      <td>Science Fiction, Drama, Humanity And The World...</td>\n",
       "    </tr>\n",
       "  </tbody>\n",
       "</table>\n",
       "</div>"
      ],
      "text/plain": [
       "                  title  year  number_ratings  average_rating  length  \\\n",
       "0               Get Out  2017         2706282             4.2     104   \n",
       "1             Lady Bird  2017         2062281             3.8      94   \n",
       "2  Call Me by Your Name  2017         1687099             3.9     132   \n",
       "3           Baby Driver  2017         1933993             3.7     113   \n",
       "4     Blade Runner 2049  2017         1411904             4.1     164   \n",
       "\n",
       "                                              genres  \n",
       "0                          Horror, Mystery, Thriller  \n",
       "1         Comedy, Drama, Moving Relationship Stories  \n",
       "2        Romance, Drama, Moving Relationship Stories  \n",
       "3                 Crime, Action, Drugs And Gangsters  \n",
       "4  Science Fiction, Drama, Humanity And The World...  "
      ]
     },
     "metadata": {},
     "output_type": "display_data"
    }
   ],
   "source": [
    "print(f\"Length of raw data frame: {len(raw_movie_data_2017)}\")\n",
    "print(\"-\"*50)\n",
    "display(raw_movie_data_2017.head(5))\n",
    "print(\"\\n\")\n",
    "\n",
    "print(f\"Length of clean data frame: {len(clean_movie_data_2017)}\")\n",
    "print(\"-\"*50)\n",
    "display(clean_movie_data_2017.head(5))\n"
   ]
  },
  {
   "cell_type": "markdown",
   "id": "b1d2666f-84e0-41f5-8cde-409e3d394020",
   "metadata": {},
   "source": [
    "### Save clean complete 2017 Letterboxd movie details for 25% most popular movies to CSV file "
   ]
  },
  {
   "cell_type": "code",
   "execution_count": 43,
   "id": "f4481671-a870-4885-93c9-5021c0b6ca1f",
   "metadata": {},
   "outputs": [],
   "source": [
    "clean_movie_data_2017.to_csv(\"letterboxd_movie_data_2017_clean.csv\", header=True, index=False, encoding='utf-8')"
   ]
  },
  {
   "cell_type": "code",
   "execution_count": null,
   "id": "db3af5f6-f2c7-4801-a658-5679cfc81cfb",
   "metadata": {},
   "outputs": [],
   "source": []
  }
 ],
 "metadata": {
  "kernelspec": {
   "display_name": "Python 3 (ipykernel)",
   "language": "python",
   "name": "python3"
  },
  "language_info": {
   "codemirror_mode": {
    "name": "ipython",
    "version": 3
   },
   "file_extension": ".py",
   "mimetype": "text/x-python",
   "name": "python",
   "nbconvert_exporter": "python",
   "pygments_lexer": "ipython3",
   "version": "3.12.3"
  }
 },
 "nbformat": 4,
 "nbformat_minor": 5
}
