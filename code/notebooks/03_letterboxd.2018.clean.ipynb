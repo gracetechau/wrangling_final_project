{
 "cells": [
  {
   "cell_type": "markdown",
   "id": "6cb2d263-6721-4741-ad78-941fc6b73556",
   "metadata": {},
   "source": [
    "# Grace Techau\n",
    "## Box Office Revenue & Letterboxd Ratings Project \n",
    "### NOTEBOOK 3\n",
    "### Cleaning Letterboxd Movie Data - 2018"
   ]
  },
  {
   "cell_type": "code",
   "execution_count": 2,
   "id": "5f3aaf08-46c4-44f9-b15f-93179f218afb",
   "metadata": {},
   "outputs": [],
   "source": [
    "#import all required packages \n",
    "import pandas as pd "
   ]
  },
  {
   "cell_type": "markdown",
   "id": "0706e02a-f201-40c8-9f5d-0ae721a4bbdf",
   "metadata": {},
   "source": [
    "### Merge raw scraped data files for Letterboxd movies in 2018"
   ]
  },
  {
   "cell_type": "markdown",
   "id": "ca3e58f1-1dca-4988-be49-71bc65e1a23e",
   "metadata": {},
   "source": [
    "The top 25% most popular Letterboxd movies in 2018 were scraped in three parts and were saved in seperate CSV files. The breakdown of pages scraped per file is below: \n",
    "- Pages 1 to 35 are captured in letterboxd_movie_data_2018_raw_1.csv\n",
    "- Pages 36 to 39 are captured in letterboxd_movie_data_2018_raw_2.csv\n",
    "- Pages 39 to 71 are caputed in latterboxd_movie_data_2018_raw_3.csv\n",
    "\n",
    "These CSV files need to be merged into one complete 25% most popular 2018 Letterboxd movies Pandas data frame where all the data can be cleaned.  "
   ]
  },
  {
   "cell_type": "code",
   "execution_count": 5,
   "id": "995d76e5-257f-4c63-84c3-f43d71800eaf",
   "metadata": {},
   "outputs": [
    {
     "name": "stdout",
     "output_type": "stream",
     "text": [
      "Number of movies in 2018 part 1: 2520\n"
     ]
    }
   ],
   "source": [
    "# Read in 2018 scraping part 1 to a pandas data frame \n",
    "\n",
    "raw_2018_1 = pd.read_csv(\"letterboxd_movie_data_2018_raw_1.csv\", encoding='utf-8')\n",
    "\n",
    "print(f\"Number of movies in 2018 part 1: {len(raw_2018_1)}\")"
   ]
  },
  {
   "cell_type": "code",
   "execution_count": 6,
   "id": "08f4ae1a-f598-418d-a669-6966b91fd640",
   "metadata": {},
   "outputs": [
    {
     "name": "stdout",
     "output_type": "stream",
     "text": [
      "Number of movies in 2018 part 2: 269\n"
     ]
    }
   ],
   "source": [
    "# Read in 2018 scraping part 2 to a pandas data frame \n",
    "\n",
    "raw_2018_2 = pd.read_csv(\"letterboxd_movie_data_2018_raw_2.csv\", encoding='utf-8')\n",
    "\n",
    "print(f\"Number of movies in 2018 part 2: {len(raw_2018_2)}\")"
   ]
  },
  {
   "cell_type": "code",
   "execution_count": 7,
   "id": "7e4b636b-22c7-4e0b-b2df-0f97a3cad212",
   "metadata": {},
   "outputs": [
    {
     "name": "stdout",
     "output_type": "stream",
     "text": [
      "Number of movies in 2018 part 3: 2376\n"
     ]
    }
   ],
   "source": [
    "# Read in 2018 scraping part 3 to a pandas data frame \n",
    "\n",
    "raw_2018_3 = pd.read_csv(\"letterboxd_movie_data_2018_raw_3.csv\", encoding='utf-8')\n",
    "\n",
    "print(f\"Number of movies in 2018 part 3: {len(raw_2018_3)}\")"
   ]
  },
  {
   "cell_type": "code",
   "execution_count": 8,
   "id": "ba095c3b-3e80-4038-8d2f-5062fad28500",
   "metadata": {},
   "outputs": [
    {
     "name": "stdout",
     "output_type": "stream",
     "text": [
      "Total number of movies in 2018: 5165\n",
      "--------------------------------------------------\n"
     ]
    },
    {
     "data": {
      "text/html": [
       "<div>\n",
       "<style scoped>\n",
       "    .dataframe tbody tr th:only-of-type {\n",
       "        vertical-align: middle;\n",
       "    }\n",
       "\n",
       "    .dataframe tbody tr th {\n",
       "        vertical-align: top;\n",
       "    }\n",
       "\n",
       "    .dataframe thead th {\n",
       "        text-align: right;\n",
       "    }\n",
       "</style>\n",
       "<table border=\"1\" class=\"dataframe\">\n",
       "  <thead>\n",
       "    <tr style=\"text-align: right;\">\n",
       "      <th></th>\n",
       "      <th>title</th>\n",
       "      <th>year</th>\n",
       "      <th>number_ratings</th>\n",
       "      <th>average_rating</th>\n",
       "      <th>length</th>\n",
       "      <th>genres</th>\n",
       "    </tr>\n",
       "  </thead>\n",
       "  <tbody>\n",
       "    <tr>\n",
       "      <th>0</th>\n",
       "      <td>Spider-Man: Into the Spider-Verse</td>\n",
       "      <td>2018</td>\n",
       "      <td>Weighted average of 4.42 based on 2,764,289 ra...</td>\n",
       "      <td>4.4</td>\n",
       "      <td>117 mins   More at IMDB TMDB</td>\n",
       "      <td>Adventure, Animation, Science Fiction, Action,...</td>\n",
       "    </tr>\n",
       "    <tr>\n",
       "      <th>1</th>\n",
       "      <td>Avengers: Infinity War</td>\n",
       "      <td>2018</td>\n",
       "      <td>Weighted average of 3.97 based on 2,174,852 ra...</td>\n",
       "      <td>4.0</td>\n",
       "      <td>149 mins   More at IMDB TMDB</td>\n",
       "      <td>Action, Science Fiction, Adventure, Epic Heroe...</td>\n",
       "    </tr>\n",
       "    <tr>\n",
       "      <th>2</th>\n",
       "      <td>Hereditary</td>\n",
       "      <td>2018</td>\n",
       "      <td>Weighted average of 3.96 based on 1,722,359 ra...</td>\n",
       "      <td>4.0</td>\n",
       "      <td>128 mins   More at IMDB TMDB</td>\n",
       "      <td>Thriller, Horror, Mystery, Horror, The Undead ...</td>\n",
       "    </tr>\n",
       "    <tr>\n",
       "      <th>3</th>\n",
       "      <td>Black Panther</td>\n",
       "      <td>2018</td>\n",
       "      <td>Weighted average of 3.65 based on 1,875,107 ra...</td>\n",
       "      <td>3.7</td>\n",
       "      <td>135 mins   More at IMDB TMDB</td>\n",
       "      <td>Adventure, Science Fiction, Action, Epic Heroe...</td>\n",
       "    </tr>\n",
       "    <tr>\n",
       "      <th>4</th>\n",
       "      <td>A Quiet Place</td>\n",
       "      <td>2018</td>\n",
       "      <td>Weighted average of 3.65 based on 1,392,279 ra...</td>\n",
       "      <td>3.6</td>\n",
       "      <td>91 mins   More at IMDB TMDB</td>\n",
       "      <td>Drama, Science Fiction, Horror, Monsters, Alie...</td>\n",
       "    </tr>\n",
       "  </tbody>\n",
       "</table>\n",
       "</div>"
      ],
      "text/plain": [
       "                               title  year  \\\n",
       "0  Spider-Man: Into the Spider-Verse  2018   \n",
       "1             Avengers: Infinity War  2018   \n",
       "2                         Hereditary  2018   \n",
       "3                      Black Panther  2018   \n",
       "4                      A Quiet Place  2018   \n",
       "\n",
       "                                      number_ratings average_rating  \\\n",
       "0  Weighted average of 4.42 based on 2,764,289 ra...            4.4   \n",
       "1  Weighted average of 3.97 based on 2,174,852 ra...            4.0   \n",
       "2  Weighted average of 3.96 based on 1,722,359 ra...            4.0   \n",
       "3  Weighted average of 3.65 based on 1,875,107 ra...            3.7   \n",
       "4  Weighted average of 3.65 based on 1,392,279 ra...            3.6   \n",
       "\n",
       "                         length  \\\n",
       "0  117 mins   More at IMDB TMDB   \n",
       "1  149 mins   More at IMDB TMDB   \n",
       "2  128 mins   More at IMDB TMDB   \n",
       "3  135 mins   More at IMDB TMDB   \n",
       "4   91 mins   More at IMDB TMDB   \n",
       "\n",
       "                                              genres  \n",
       "0  Adventure, Animation, Science Fiction, Action,...  \n",
       "1  Action, Science Fiction, Adventure, Epic Heroe...  \n",
       "2  Thriller, Horror, Mystery, Horror, The Undead ...  \n",
       "3  Adventure, Science Fiction, Action, Epic Heroe...  \n",
       "4  Drama, Science Fiction, Horror, Monsters, Alie...  "
      ]
     },
     "metadata": {},
     "output_type": "display_data"
    }
   ],
   "source": [
    "# Merge the different data frames to one collective 2018 pandas data frame \n",
    "\n",
    "raw_movie_data_2018 = pd.concat([raw_2018_1, raw_2018_2, raw_2018_3], axis=0, ignore_index=True)\n",
    "\n",
    "print(f\"Total number of movies in 2018: {len(raw_movie_data_2018)}\")\n",
    "print(\"-\"*50)\n",
    "display(raw_movie_data_2018.head(5))"
   ]
  },
  {
   "cell_type": "markdown",
   "id": "1139f079-1489-4d80-8fbc-a2745a573bf1",
   "metadata": {},
   "source": [
    "### Clean complete 2018 Letterboxd movie data set "
   ]
  },
  {
   "cell_type": "code",
   "execution_count": 10,
   "id": "2b01aa20-1431-4b23-b852-ded724fb854e",
   "metadata": {},
   "outputs": [],
   "source": [
    "# Make a copy of the raw data frame for cleaning\n",
    "clean_movie_data_2018 = raw_movie_data_2018.copy()"
   ]
  },
  {
   "cell_type": "markdown",
   "id": "dc6a3b4b-57e4-4b95-979f-cb14e1dcd57e",
   "metadata": {},
   "source": [
    "Since the 2018 Letterboxd movie data was scraped in batches and some of those batches ended in the middle of a page, there are duplicates present. I scraped the ending page of each batch as the starting page of the next batch to make sure all movies were scraped. Now those duplicates can be removed. "
   ]
  },
  {
   "cell_type": "code",
   "execution_count": 12,
   "id": "7801c57f-9d75-453d-804a-51626a2290e9",
   "metadata": {},
   "outputs": [
    {
     "name": "stdout",
     "output_type": "stream",
     "text": [
      "Total duplicate records in raw 2018 data frame: 78\n",
      "--------------------------------------------------\n",
      "Total duplicate records in clean 2018 data frame: 0\n"
     ]
    }
   ],
   "source": [
    "duplicates_raw = raw_movie_data_2018[raw_movie_data_2018.duplicated(keep=False)]\n",
    "print(f\"Total duplicate records in raw 2018 data frame: {len(duplicates_raw)}\")\n",
    "print(\"-\"*50)\n",
    "\n",
    "clean_movie_data_2018 = clean_movie_data_2018.drop_duplicates(keep=False)\n",
    "\n",
    "duplicates_clean = clean_movie_data_2018[clean_movie_data_2018.duplicated(keep=False)]\n",
    "print(f\"Total duplicate records in clean 2018 data frame: {len(duplicates_clean)}\")"
   ]
  },
  {
   "cell_type": "markdown",
   "id": "c5998f0a-f8ba-4055-a649-c3536a8cec84",
   "metadata": {},
   "source": [
    "The analysis for this project is utilizing the rating data from Letterboxd, therefore any movies where the rating wasn't available are not relevant and can be dropped. "
   ]
  },
  {
   "cell_type": "code",
   "execution_count": 14,
   "id": "caeb951c-b83a-423a-a743-3fa01fb7fe7c",
   "metadata": {},
   "outputs": [
    {
     "name": "stdout",
     "output_type": "stream",
     "text": [
      "# rows where no average rating and number ratings was available was available\n",
      "--------------------------------------------------\n"
     ]
    },
    {
     "data": {
      "text/plain": [
       "1668"
      ]
     },
     "metadata": {},
     "output_type": "display_data"
    },
    {
     "name": "stdout",
     "output_type": "stream",
     "text": [
      "\n",
      "\n",
      "length of the data frame after dropping rows with no rating data\n",
      "--------------------------------------------------\n",
      "3419\n"
     ]
    }
   ],
   "source": [
    "no_rating_data = clean_movie_data_2018[(clean_movie_data_2018['average_rating'] == 'No average rating available') & (clean_movie_data_2018['number_ratings'] == 'No number of ratings available')].index\n",
    "\n",
    "print(\"# rows where no average rating and number ratings was available was available\")\n",
    "print(\"-\"*50)\n",
    "display(len(clean_movie_data_2018.loc[no_rating_data]))\n",
    "\n",
    "### Drop these rows \n",
    "clean_movie_data_2018 = clean_movie_data_2018.drop(no_rating_data)\n",
    "\n",
    "print(\"\\n\")\n",
    "print(\"length of the data frame after dropping rows with no rating data\")\n",
    "print(\"-\"*50)\n",
    "print(len(clean_movie_data_2018))"
   ]
  },
  {
   "cell_type": "markdown",
   "id": "0ede14e8-38ae-434a-befd-8c42ae295908",
   "metadata": {},
   "source": [
    "Remove text from 'length' column so that only the minutes numerical value is present. \\\n",
    "For example changing '164 mins More at IMDB TMDB' to '164'"
   ]
  },
  {
   "cell_type": "code",
   "execution_count": 16,
   "id": "d344887a-f9a2-4520-b45e-f5d20aaf6047",
   "metadata": {},
   "outputs": [
    {
     "name": "stdout",
     "output_type": "stream",
     "text": [
      "length column before cleaning\n",
      "--------------------------------------------------\n"
     ]
    },
    {
     "data": {
      "text/plain": [
       "0    117 mins   More at IMDB TMDB\n",
       "1    149 mins   More at IMDB TMDB\n",
       "2    128 mins   More at IMDB TMDB\n",
       "3    135 mins   More at IMDB TMDB\n",
       "4     91 mins   More at IMDB TMDB\n",
       "5    135 mins   More at IMDB TMDB\n",
       "6    120 mins   More at IMDB TMDB\n",
       "7    119 mins   More at IMDB TMDB\n",
       "8    120 mins   More at IMDB TMDB\n",
       "9    136 mins   More at IMDB TMDB\n",
       "Name: length, dtype: object"
      ]
     },
     "metadata": {},
     "output_type": "display_data"
    },
    {
     "name": "stdout",
     "output_type": "stream",
     "text": [
      "\n",
      "\n",
      "length column after cleaning\n",
      "--------------------------------------------------\n"
     ]
    },
    {
     "data": {
      "text/plain": [
       "0    117\n",
       "1    149\n",
       "2    128\n",
       "3    135\n",
       "4     91\n",
       "5    135\n",
       "6    120\n",
       "7    119\n",
       "8    120\n",
       "9    136\n",
       "Name: length, dtype: object"
      ]
     },
     "metadata": {},
     "output_type": "display_data"
    }
   ],
   "source": [
    "# Keep only the numeric value from the string of text in the length column\n",
    "clean_movie_data_2018.loc[:, 'length'] = clean_movie_data_2018['length'].str.replace(r'\\D', '', regex=True)\n",
    "\n",
    "print(\"length column before cleaning\")\n",
    "print(\"-\"*50)\n",
    "display(raw_movie_data_2018['length'].head(10))\n",
    "print(\"\\n\")\n",
    "print(\"length column after cleaning\")\n",
    "print(\"-\"*50)\n",
    "display(clean_movie_data_2018['length'].head(10))"
   ]
  },
  {
   "cell_type": "markdown",
   "id": "cb2ed1aa-0294-4324-a467-47eed81a1f74",
   "metadata": {},
   "source": [
    "Remove text from 'number_ratings' column to include only the numerical value for the number of ratings. \\\n",
    "For example changing 'Weighted average of 3.03 based on 288 ratings' to '288'"
   ]
  },
  {
   "cell_type": "code",
   "execution_count": 18,
   "id": "e247ccab-05aa-4436-b7c4-b89651f5adb2",
   "metadata": {},
   "outputs": [
    {
     "name": "stdout",
     "output_type": "stream",
     "text": [
      "number_ratings column before cleaning\n",
      "--------------------------------------------------\n"
     ]
    },
    {
     "data": {
      "text/plain": [
       "0    Weighted average of 4.42 based on 2,764,289 ra...\n",
       "1    Weighted average of 3.97 based on 2,174,852 ra...\n",
       "2    Weighted average of 3.96 based on 1,722,359 ra...\n",
       "3    Weighted average of 3.65 based on 1,875,107 ra...\n",
       "4    Weighted average of 3.65 based on 1,392,279 ra...\n",
       "5    Weighted average of 3.44 based on 1,225,300 ra...\n",
       "6    Weighted average of 3.49 based on 1,188,409 ra...\n",
       "7    Weighted average of 3.94 based on 706,094 ratings\n",
       "8    Weighted average of 4.02 based on 718,578 ratings\n",
       "9    Weighted average of 3.95 based on 835,688 ratings\n",
       "Name: number_ratings, dtype: object"
      ]
     },
     "metadata": {},
     "output_type": "display_data"
    },
    {
     "name": "stdout",
     "output_type": "stream",
     "text": [
      "\n",
      "\n",
      "number_ratings column after cleaning\n",
      "--------------------------------------------------\n"
     ]
    },
    {
     "data": {
      "text/plain": [
       "0    2764289\n",
       "1    2174852\n",
       "2    1722359\n",
       "3    1875107\n",
       "4    1392279\n",
       "5    1225300\n",
       "6    1188409\n",
       "7     706094\n",
       "8     718578\n",
       "9     835688\n",
       "Name: number_ratings, dtype: object"
      ]
     },
     "metadata": {},
     "output_type": "display_data"
    }
   ],
   "source": [
    "# using pandas .str.extract() method to keep only the numerical value after string of text 'based on'\n",
    "\n",
    "clean_movie_data_2018['number_ratings'] = clean_movie_data_2018['number_ratings'].str.extract(r'based on ([\\d,]+)').replace({',': ''}, regex=True)\n",
    "\n",
    "print(\"number_ratings column before cleaning\")\n",
    "print(\"-\"*50)\n",
    "display(raw_movie_data_2018['number_ratings'].head(10))\n",
    "print(\"\\n\")\n",
    "print(\"number_ratings column after cleaning\")\n",
    "print(\"-\"*50)\n",
    "display(clean_movie_data_2018['number_ratings'].head(10))"
   ]
  },
  {
   "cell_type": "markdown",
   "id": "d92f55e5-4722-4f26-a627-bb23a20c5569",
   "metadata": {},
   "source": [
    "Some movies have many genres (10+), for the scope of this project only keeping the first three genres is relevant. "
   ]
  },
  {
   "cell_type": "code",
   "execution_count": 20,
   "id": "f8e1facd-32ab-4954-863a-aeea61b93391",
   "metadata": {},
   "outputs": [
    {
     "name": "stdout",
     "output_type": "stream",
     "text": [
      "genres column before cleaning\n",
      "--------------------------------------------------\n"
     ]
    },
    {
     "data": {
      "text/plain": [
       "0    Adventure, Animation, Science Fiction, Action,...\n",
       "1    Action, Science Fiction, Adventure, Epic Heroe...\n",
       "2    Thriller, Horror, Mystery, Horror, The Undead ...\n",
       "3    Adventure, Science Fiction, Action, Epic Heroe...\n",
       "4    Drama, Science Fiction, Horror, Monsters, Alie...\n",
       "5    Drama, Music, Moving Relationship Stories, Son...\n",
       "6    Action, Comedy, Adventure, Crude Humor And Sat...\n",
       "7    Drama, Moving Relationship Stories, Powerful S...\n",
       "8    Thriller, Drama, Comedy, History, Intense Viol...\n",
       "9    Drama, Comedy, Crime, Politics And Human Right...\n",
       "Name: genres, dtype: object"
      ]
     },
     "metadata": {},
     "output_type": "display_data"
    },
    {
     "name": "stdout",
     "output_type": "stream",
     "text": [
      "\n",
      "\n",
      "genres column after cleaning\n",
      "--------------------------------------------------\n"
     ]
    },
    {
     "data": {
      "text/plain": [
       "0                Adventure, Animation, Science Fiction\n",
       "1                   Action, Science Fiction, Adventure\n",
       "2                            Thriller, Horror, Mystery\n",
       "3                   Adventure, Science Fiction, Action\n",
       "4                       Drama, Science Fiction, Horror\n",
       "5            Drama, Music, Moving Relationship Stories\n",
       "6                            Action, Comedy, Adventure\n",
       "7    Drama, Moving Relationship Stories, Powerful S...\n",
       "8                              Thriller, Drama, Comedy\n",
       "9                                 Drama, Comedy, Crime\n",
       "Name: genres, dtype: object"
      ]
     },
     "metadata": {},
     "output_type": "display_data"
    }
   ],
   "source": [
    "def clean_genres(genre_str):\n",
    "    genres_list = genre_str.split(',')\n",
    "\n",
    "    # remove duplicates while preserving order \n",
    "    unique_genres = list(dict.fromkeys(genre.strip() for genre in genres_list)) \n",
    "    \n",
    "    # return only the first three unique genres \n",
    "    return ', '.join(unique_genres[:3])\n",
    "\n",
    "clean_movie_data_2018['genres'] = clean_movie_data_2018['genres'].apply(clean_genres)\n",
    "\n",
    "print(\"genres column before cleaning\")\n",
    "print(\"-\"*50)\n",
    "display(raw_movie_data_2018['genres'].head(10))\n",
    "print(\"\\n\")\n",
    "\n",
    "print(\"genres column after cleaning\")\n",
    "print(\"-\"*50)\n",
    "display(clean_movie_data_2018['genres'].head(10))"
   ]
  },
  {
   "cell_type": "markdown",
   "id": "87f150b3-67e7-45f0-a4c3-00011562ff59",
   "metadata": {},
   "source": [
    "Correct all data types. "
   ]
  },
  {
   "cell_type": "code",
   "execution_count": 22,
   "id": "04099264-1ee9-4da3-bcff-a8bc80f325fd",
   "metadata": {},
   "outputs": [
    {
     "name": "stdout",
     "output_type": "stream",
     "text": [
      "data types before cleaning\n",
      "--------------------------------------------------\n",
      "title             object\n",
      "year               int64\n",
      "number_ratings    object\n",
      "average_rating    object\n",
      "length            object\n",
      "genres            object\n",
      "dtype: object\n",
      "\n",
      "\n",
      "data types after cleaning\n",
      "--------------------------------------------------\n",
      "title              object\n",
      "year                int32\n",
      "number_ratings      int32\n",
      "average_rating    float64\n",
      "length              int32\n",
      "genres             object\n",
      "dtype: object\n"
     ]
    }
   ],
   "source": [
    "print(\"data types before cleaning\")\n",
    "print(\"-\"*50)\n",
    "print(raw_movie_data_2018.dtypes)\n",
    "\n",
    "# Remove any white space from all columns with object data type \n",
    "clean_movie_data_2018['title'] = clean_movie_data_2018['title'].str.strip()\n",
    "clean_movie_data_2018['number_ratings'] = clean_movie_data_2018['number_ratings'].str.strip()\n",
    "clean_movie_data_2018['average_rating'] = clean_movie_data_2018['average_rating'].str.strip()\n",
    "clean_movie_data_2018['length'] = clean_movie_data_2018['length'].str.strip()\n",
    "clean_movie_data_2018['genres'] = clean_movie_data_2018['genres'].str.strip()\n",
    "\n",
    "# Convert neccessary columns to numeric data type \n",
    "clean_movie_data_2018['year'] = clean_movie_data_2018['year'].astype(int)\n",
    "clean_movie_data_2018['number_ratings'] = clean_movie_data_2018['number_ratings'].astype(int)\n",
    "clean_movie_data_2018['average_rating'] = clean_movie_data_2018['average_rating'].astype(float)\n",
    "\n",
    "# There are some rows that have empty strings for length - convert these to 0's\n",
    "clean_movie_data_2018['length'] = clean_movie_data_2018['length'].replace('', 0)\n",
    "clean_movie_data_2018['length'] = clean_movie_data_2018['length'].astype(int)\n",
    "\n",
    "print(\"\\n\")\n",
    "print(\"data types after cleaning\")\n",
    "print(\"-\"*50)\n",
    "print(clean_movie_data_2018.dtypes)"
   ]
  },
  {
   "cell_type": "markdown",
   "id": "f0ceb1e8-aa3c-47e8-8388-2f58ae8a1296",
   "metadata": {},
   "source": [
    "### Final Comparison of Clean and Raw Data Frames "
   ]
  },
  {
   "cell_type": "code",
   "execution_count": 24,
   "id": "74c49d5c-3a12-47be-a351-17c298dc8b66",
   "metadata": {},
   "outputs": [
    {
     "name": "stdout",
     "output_type": "stream",
     "text": [
      "Length of raw data frame: 5165\n",
      "--------------------------------------------------\n"
     ]
    },
    {
     "data": {
      "text/html": [
       "<div>\n",
       "<style scoped>\n",
       "    .dataframe tbody tr th:only-of-type {\n",
       "        vertical-align: middle;\n",
       "    }\n",
       "\n",
       "    .dataframe tbody tr th {\n",
       "        vertical-align: top;\n",
       "    }\n",
       "\n",
       "    .dataframe thead th {\n",
       "        text-align: right;\n",
       "    }\n",
       "</style>\n",
       "<table border=\"1\" class=\"dataframe\">\n",
       "  <thead>\n",
       "    <tr style=\"text-align: right;\">\n",
       "      <th></th>\n",
       "      <th>title</th>\n",
       "      <th>year</th>\n",
       "      <th>number_ratings</th>\n",
       "      <th>average_rating</th>\n",
       "      <th>length</th>\n",
       "      <th>genres</th>\n",
       "    </tr>\n",
       "  </thead>\n",
       "  <tbody>\n",
       "    <tr>\n",
       "      <th>0</th>\n",
       "      <td>Spider-Man: Into the Spider-Verse</td>\n",
       "      <td>2018</td>\n",
       "      <td>Weighted average of 4.42 based on 2,764,289 ra...</td>\n",
       "      <td>4.4</td>\n",
       "      <td>117 mins   More at IMDB TMDB</td>\n",
       "      <td>Adventure, Animation, Science Fiction, Action,...</td>\n",
       "    </tr>\n",
       "    <tr>\n",
       "      <th>1</th>\n",
       "      <td>Avengers: Infinity War</td>\n",
       "      <td>2018</td>\n",
       "      <td>Weighted average of 3.97 based on 2,174,852 ra...</td>\n",
       "      <td>4.0</td>\n",
       "      <td>149 mins   More at IMDB TMDB</td>\n",
       "      <td>Action, Science Fiction, Adventure, Epic Heroe...</td>\n",
       "    </tr>\n",
       "    <tr>\n",
       "      <th>2</th>\n",
       "      <td>Hereditary</td>\n",
       "      <td>2018</td>\n",
       "      <td>Weighted average of 3.96 based on 1,722,359 ra...</td>\n",
       "      <td>4.0</td>\n",
       "      <td>128 mins   More at IMDB TMDB</td>\n",
       "      <td>Thriller, Horror, Mystery, Horror, The Undead ...</td>\n",
       "    </tr>\n",
       "    <tr>\n",
       "      <th>3</th>\n",
       "      <td>Black Panther</td>\n",
       "      <td>2018</td>\n",
       "      <td>Weighted average of 3.65 based on 1,875,107 ra...</td>\n",
       "      <td>3.7</td>\n",
       "      <td>135 mins   More at IMDB TMDB</td>\n",
       "      <td>Adventure, Science Fiction, Action, Epic Heroe...</td>\n",
       "    </tr>\n",
       "    <tr>\n",
       "      <th>4</th>\n",
       "      <td>A Quiet Place</td>\n",
       "      <td>2018</td>\n",
       "      <td>Weighted average of 3.65 based on 1,392,279 ra...</td>\n",
       "      <td>3.6</td>\n",
       "      <td>91 mins   More at IMDB TMDB</td>\n",
       "      <td>Drama, Science Fiction, Horror, Monsters, Alie...</td>\n",
       "    </tr>\n",
       "  </tbody>\n",
       "</table>\n",
       "</div>"
      ],
      "text/plain": [
       "                               title  year  \\\n",
       "0  Spider-Man: Into the Spider-Verse  2018   \n",
       "1             Avengers: Infinity War  2018   \n",
       "2                         Hereditary  2018   \n",
       "3                      Black Panther  2018   \n",
       "4                      A Quiet Place  2018   \n",
       "\n",
       "                                      number_ratings average_rating  \\\n",
       "0  Weighted average of 4.42 based on 2,764,289 ra...            4.4   \n",
       "1  Weighted average of 3.97 based on 2,174,852 ra...            4.0   \n",
       "2  Weighted average of 3.96 based on 1,722,359 ra...            4.0   \n",
       "3  Weighted average of 3.65 based on 1,875,107 ra...            3.7   \n",
       "4  Weighted average of 3.65 based on 1,392,279 ra...            3.6   \n",
       "\n",
       "                         length  \\\n",
       "0  117 mins   More at IMDB TMDB   \n",
       "1  149 mins   More at IMDB TMDB   \n",
       "2  128 mins   More at IMDB TMDB   \n",
       "3  135 mins   More at IMDB TMDB   \n",
       "4   91 mins   More at IMDB TMDB   \n",
       "\n",
       "                                              genres  \n",
       "0  Adventure, Animation, Science Fiction, Action,...  \n",
       "1  Action, Science Fiction, Adventure, Epic Heroe...  \n",
       "2  Thriller, Horror, Mystery, Horror, The Undead ...  \n",
       "3  Adventure, Science Fiction, Action, Epic Heroe...  \n",
       "4  Drama, Science Fiction, Horror, Monsters, Alie...  "
      ]
     },
     "metadata": {},
     "output_type": "display_data"
    },
    {
     "name": "stdout",
     "output_type": "stream",
     "text": [
      "\n",
      "\n",
      "Length of clean data frame: 3419\n",
      "--------------------------------------------------\n"
     ]
    },
    {
     "data": {
      "text/html": [
       "<div>\n",
       "<style scoped>\n",
       "    .dataframe tbody tr th:only-of-type {\n",
       "        vertical-align: middle;\n",
       "    }\n",
       "\n",
       "    .dataframe tbody tr th {\n",
       "        vertical-align: top;\n",
       "    }\n",
       "\n",
       "    .dataframe thead th {\n",
       "        text-align: right;\n",
       "    }\n",
       "</style>\n",
       "<table border=\"1\" class=\"dataframe\">\n",
       "  <thead>\n",
       "    <tr style=\"text-align: right;\">\n",
       "      <th></th>\n",
       "      <th>title</th>\n",
       "      <th>year</th>\n",
       "      <th>number_ratings</th>\n",
       "      <th>average_rating</th>\n",
       "      <th>length</th>\n",
       "      <th>genres</th>\n",
       "    </tr>\n",
       "  </thead>\n",
       "  <tbody>\n",
       "    <tr>\n",
       "      <th>0</th>\n",
       "      <td>Spider-Man: Into the Spider-Verse</td>\n",
       "      <td>2018</td>\n",
       "      <td>2764289</td>\n",
       "      <td>4.4</td>\n",
       "      <td>117</td>\n",
       "      <td>Adventure, Animation, Science Fiction</td>\n",
       "    </tr>\n",
       "    <tr>\n",
       "      <th>1</th>\n",
       "      <td>Avengers: Infinity War</td>\n",
       "      <td>2018</td>\n",
       "      <td>2174852</td>\n",
       "      <td>4.0</td>\n",
       "      <td>149</td>\n",
       "      <td>Action, Science Fiction, Adventure</td>\n",
       "    </tr>\n",
       "    <tr>\n",
       "      <th>2</th>\n",
       "      <td>Hereditary</td>\n",
       "      <td>2018</td>\n",
       "      <td>1722359</td>\n",
       "      <td>4.0</td>\n",
       "      <td>128</td>\n",
       "      <td>Thriller, Horror, Mystery</td>\n",
       "    </tr>\n",
       "    <tr>\n",
       "      <th>3</th>\n",
       "      <td>Black Panther</td>\n",
       "      <td>2018</td>\n",
       "      <td>1875107</td>\n",
       "      <td>3.7</td>\n",
       "      <td>135</td>\n",
       "      <td>Adventure, Science Fiction, Action</td>\n",
       "    </tr>\n",
       "    <tr>\n",
       "      <th>4</th>\n",
       "      <td>A Quiet Place</td>\n",
       "      <td>2018</td>\n",
       "      <td>1392279</td>\n",
       "      <td>3.6</td>\n",
       "      <td>91</td>\n",
       "      <td>Drama, Science Fiction, Horror</td>\n",
       "    </tr>\n",
       "  </tbody>\n",
       "</table>\n",
       "</div>"
      ],
      "text/plain": [
       "                               title  year  number_ratings  average_rating  \\\n",
       "0  Spider-Man: Into the Spider-Verse  2018         2764289             4.4   \n",
       "1             Avengers: Infinity War  2018         2174852             4.0   \n",
       "2                         Hereditary  2018         1722359             4.0   \n",
       "3                      Black Panther  2018         1875107             3.7   \n",
       "4                      A Quiet Place  2018         1392279             3.6   \n",
       "\n",
       "   length                                 genres  \n",
       "0     117  Adventure, Animation, Science Fiction  \n",
       "1     149     Action, Science Fiction, Adventure  \n",
       "2     128              Thriller, Horror, Mystery  \n",
       "3     135     Adventure, Science Fiction, Action  \n",
       "4      91         Drama, Science Fiction, Horror  "
      ]
     },
     "metadata": {},
     "output_type": "display_data"
    }
   ],
   "source": [
    "print(f\"Length of raw data frame: {len(raw_movie_data_2018)}\")\n",
    "print(\"-\"*50)\n",
    "display(raw_movie_data_2018.head(5))\n",
    "print(\"\\n\")\n",
    "\n",
    "print(f\"Length of clean data frame: {len(clean_movie_data_2018)}\")\n",
    "print(\"-\"*50)\n",
    "display(clean_movie_data_2018.head(5))\n"
   ]
  },
  {
   "cell_type": "markdown",
   "id": "04ffa9a4-d665-4325-a6df-44dbb0338096",
   "metadata": {},
   "source": [
    "### Save clean complete 2018 Letterboxd movie details for 25% most popular movies to CSV file "
   ]
  },
  {
   "cell_type": "code",
   "execution_count": 41,
   "id": "a776c779-5458-451b-bb3c-779a9e9f7faf",
   "metadata": {},
   "outputs": [],
   "source": [
    "clean_movie_data_2018.to_csv(\"letterboxd_movie_data_2018_clean.csv\", header=True, index=False, encoding='utf-8')"
   ]
  },
  {
   "cell_type": "code",
   "execution_count": null,
   "id": "462c11be-e979-4fc5-9e55-05f1817f7f84",
   "metadata": {},
   "outputs": [],
   "source": []
  }
 ],
 "metadata": {
  "kernelspec": {
   "display_name": "Python 3 (ipykernel)",
   "language": "python",
   "name": "python3"
  },
  "language_info": {
   "codemirror_mode": {
    "name": "ipython",
    "version": 3
   },
   "file_extension": ".py",
   "mimetype": "text/x-python",
   "name": "python",
   "nbconvert_exporter": "python",
   "pygments_lexer": "ipython3",
   "version": "3.12.3"
  }
 },
 "nbformat": 4,
 "nbformat_minor": 5
}
