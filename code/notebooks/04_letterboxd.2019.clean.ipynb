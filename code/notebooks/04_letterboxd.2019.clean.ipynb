{
 "cells": [
  {
   "cell_type": "markdown",
   "id": "ad286c04-d848-41bf-b2cc-feeca3aa86dc",
   "metadata": {},
   "source": [
    "# Grace Techau\n",
    "## Box Office Revenue & Letterboxd Ratings Project \n",
    "### NOTEBOOK 4\n",
    "### Cleaning Letterboxd Movie Data - 2019"
   ]
  },
  {
   "cell_type": "code",
   "execution_count": 2,
   "id": "fa709a53-3853-4a29-b536-1480d3b3b240",
   "metadata": {},
   "outputs": [],
   "source": [
    "#import all required packages \n",
    "import pandas as pd "
   ]
  },
  {
   "cell_type": "markdown",
   "id": "6739fae4-69c5-4aec-a691-a42dc271bd57",
   "metadata": {},
   "source": [
    "### Merge raw scraped data files for Letterboxd movies in 2019"
   ]
  },
  {
   "cell_type": "markdown",
   "id": "d56fde14-ec21-407e-a2ce-0f55d081449e",
   "metadata": {},
   "source": [
    "The top 25% most popular Letterboxd movies in 2019 were scraped in ___ parts and were saved in seperate CSV files. The breakdown of pages scraped per file is below: \n",
    "- Pages 1 to 14 are captured in letterboxd_movie_data_2019_raw_1.csv\n",
    "- Pages 14 to 45 are captured in letterboxd_movie_data_2019_raw_2.csv\n",
    "- Pages 46 to 75 are captured in letterboxd_movie_data_2019_raw_3.csv\n",
    "\n",
    "These CSV files need to be merged into one complete 25% most popular 2019 Letterboxd movies Pandas data frame where all the data can be cleaned.  "
   ]
  },
  {
   "cell_type": "code",
   "execution_count": 5,
   "id": "3d767e25-b149-4c51-9650-989d5fe46b21",
   "metadata": {},
   "outputs": [
    {
     "name": "stdout",
     "output_type": "stream",
     "text": [
      "Number of movies in 2019 part 1: 963\n"
     ]
    }
   ],
   "source": [
    "# Read in 2019 scraping part 1 to a pandas data frame \n",
    "\n",
    "raw_2019_1 = pd.read_csv(\"letterboxd_movie_data_2019_raw_1.csv\", encoding='utf-8')\n",
    "\n",
    "print(f\"Number of movies in 2019 part 1: {len(raw_2019_1)}\")"
   ]
  },
  {
   "cell_type": "code",
   "execution_count": 6,
   "id": "5f926a01-61f3-4e53-88f6-620ce26a9916",
   "metadata": {},
   "outputs": [
    {
     "name": "stdout",
     "output_type": "stream",
     "text": [
      "Number of movies in 2019 part 2: 2304\n"
     ]
    }
   ],
   "source": [
    "# Read in 2019 scraping part 2 to a pandas data frame \n",
    "\n",
    "raw_2019_2 = pd.read_csv(\"letterboxd_movie_data_2019_raw_2.csv\", encoding='utf-8')\n",
    "\n",
    "print(f\"Number of movies in 2019 part 2: {len(raw_2019_2)}\")"
   ]
  },
  {
   "cell_type": "code",
   "execution_count": 7,
   "id": "545c22a7-1a3f-4898-8cae-d2768f3f74db",
   "metadata": {},
   "outputs": [
    {
     "name": "stdout",
     "output_type": "stream",
     "text": [
      "Number of movies in 2019 part 3: 2160\n"
     ]
    }
   ],
   "source": [
    "# Read in 2019 scraping part 3 to a pandas data frame \n",
    "\n",
    "raw_2019_3 = pd.read_csv(\"letterboxd_movie_data_2019_raw_3.csv\", encoding='utf-8')\n",
    "\n",
    "print(f\"Number of movies in 2019 part 3: {len(raw_2019_3)}\")"
   ]
  },
  {
   "cell_type": "code",
   "execution_count": 8,
   "id": "7fee5962-3f1e-46d0-9af5-e1b4044cbe61",
   "metadata": {},
   "outputs": [
    {
     "name": "stdout",
     "output_type": "stream",
     "text": [
      "Total number of movies in 2019: 5427\n",
      "--------------------------------------------------\n"
     ]
    },
    {
     "data": {
      "text/html": [
       "<div>\n",
       "<style scoped>\n",
       "    .dataframe tbody tr th:only-of-type {\n",
       "        vertical-align: middle;\n",
       "    }\n",
       "\n",
       "    .dataframe tbody tr th {\n",
       "        vertical-align: top;\n",
       "    }\n",
       "\n",
       "    .dataframe thead th {\n",
       "        text-align: right;\n",
       "    }\n",
       "</style>\n",
       "<table border=\"1\" class=\"dataframe\">\n",
       "  <thead>\n",
       "    <tr style=\"text-align: right;\">\n",
       "      <th></th>\n",
       "      <th>title</th>\n",
       "      <th>year</th>\n",
       "      <th>number_ratings</th>\n",
       "      <th>average_rating</th>\n",
       "      <th>length</th>\n",
       "      <th>genres</th>\n",
       "    </tr>\n",
       "  </thead>\n",
       "  <tbody>\n",
       "    <tr>\n",
       "      <th>0</th>\n",
       "      <td>Parasite</td>\n",
       "      <td>2019.0</td>\n",
       "      <td>Weighted average of 4.55 based on 3,233,120 ra...</td>\n",
       "      <td>4.6</td>\n",
       "      <td>133 mins   More at IMDB TMDB</td>\n",
       "      <td>Comedy, Thriller, Drama, Humanity And The Worl...</td>\n",
       "    </tr>\n",
       "    <tr>\n",
       "      <th>1</th>\n",
       "      <td>Joker</td>\n",
       "      <td>2019.0</td>\n",
       "      <td>Weighted average of 3.85 based on 3,064,771 ra...</td>\n",
       "      <td>3.8</td>\n",
       "      <td>122 mins   More at IMDB TMDB</td>\n",
       "      <td>Crime, Drama, Thriller, Intense Violence And S...</td>\n",
       "    </tr>\n",
       "    <tr>\n",
       "      <th>2</th>\n",
       "      <td>Midsommar</td>\n",
       "      <td>2019.0</td>\n",
       "      <td>Weighted average of 3.77 based on 2,420,557 ra...</td>\n",
       "      <td>3.8</td>\n",
       "      <td>147 mins   More at IMDB TMDB</td>\n",
       "      <td>Mystery, Drama, Horror, Intense Violence And S...</td>\n",
       "    </tr>\n",
       "    <tr>\n",
       "      <th>3</th>\n",
       "      <td>Knives Out</td>\n",
       "      <td>2019.0</td>\n",
       "      <td>Weighted average of 3.98 based on 2,583,937 ra...</td>\n",
       "      <td>4.0</td>\n",
       "      <td>131 mins   More at IMDB TMDB</td>\n",
       "      <td>Mystery, Comedy, Crime, Thrillers And Murder M...</td>\n",
       "    </tr>\n",
       "    <tr>\n",
       "      <th>4</th>\n",
       "      <td>Once Upon a Time… in Hollywood</td>\n",
       "      <td>2019.0</td>\n",
       "      <td>Weighted average of 3.76 based on 1,977,706 ra...</td>\n",
       "      <td>3.8</td>\n",
       "      <td>162 mins   More at IMDB TMDB</td>\n",
       "      <td>Drama, Thriller, Comedy, Humanity And The Worl...</td>\n",
       "    </tr>\n",
       "  </tbody>\n",
       "</table>\n",
       "</div>"
      ],
      "text/plain": [
       "                            title    year  \\\n",
       "0                        Parasite  2019.0   \n",
       "1                           Joker  2019.0   \n",
       "2                       Midsommar  2019.0   \n",
       "3                      Knives Out  2019.0   \n",
       "4  Once Upon a Time… in Hollywood  2019.0   \n",
       "\n",
       "                                      number_ratings average_rating  \\\n",
       "0  Weighted average of 4.55 based on 3,233,120 ra...            4.6   \n",
       "1  Weighted average of 3.85 based on 3,064,771 ra...            3.8   \n",
       "2  Weighted average of 3.77 based on 2,420,557 ra...            3.8   \n",
       "3  Weighted average of 3.98 based on 2,583,937 ra...            4.0   \n",
       "4  Weighted average of 3.76 based on 1,977,706 ra...            3.8   \n",
       "\n",
       "                         length  \\\n",
       "0  133 mins   More at IMDB TMDB   \n",
       "1  122 mins   More at IMDB TMDB   \n",
       "2  147 mins   More at IMDB TMDB   \n",
       "3  131 mins   More at IMDB TMDB   \n",
       "4  162 mins   More at IMDB TMDB   \n",
       "\n",
       "                                              genres  \n",
       "0  Comedy, Thriller, Drama, Humanity And The Worl...  \n",
       "1  Crime, Drama, Thriller, Intense Violence And S...  \n",
       "2  Mystery, Drama, Horror, Intense Violence And S...  \n",
       "3  Mystery, Comedy, Crime, Thrillers And Murder M...  \n",
       "4  Drama, Thriller, Comedy, Humanity And The Worl...  "
      ]
     },
     "metadata": {},
     "output_type": "display_data"
    }
   ],
   "source": [
    "# Merge the different data frames to one collective 2019 pandas data frame \n",
    "\n",
    "raw_movie_data_2019 = pd.concat([raw_2019_1, raw_2019_2, raw_2019_3], axis=0, ignore_index=True)\n",
    "\n",
    "print(f\"Total number of movies in 2019: {len(raw_movie_data_2019)}\")\n",
    "print(\"-\"*50)\n",
    "display(raw_movie_data_2019.head(5))"
   ]
  },
  {
   "cell_type": "markdown",
   "id": "8cd37161-f429-4cf9-976e-c1cf3fef0904",
   "metadata": {},
   "source": [
    "### Clean complete 2019 Letterboxd movie data set "
   ]
  },
  {
   "cell_type": "code",
   "execution_count": 10,
   "id": "30d4af9b-24f1-485a-a383-01798f710132",
   "metadata": {},
   "outputs": [],
   "source": [
    "# Make a copy of the raw data frame for cleaning\n",
    "clean_movie_data_2019 = raw_movie_data_2019.copy()"
   ]
  },
  {
   "cell_type": "markdown",
   "id": "a410dfb2-b924-4795-959f-7ad857942b2a",
   "metadata": {},
   "source": [
    "Since the 2019 Letterboxd movie data was scraped in batches and some of those batches ended in the middle of a page, there are duplicates present. I scraped the ending page of each batch as the starting page of the next batch to make sure all movies were scraped. Now those duplicates can be removed. "
   ]
  },
  {
   "cell_type": "code",
   "execution_count": 12,
   "id": "9d0a3bf0-abdb-4288-88b0-e0d44a5bf7c6",
   "metadata": {},
   "outputs": [
    {
     "name": "stdout",
     "output_type": "stream",
     "text": [
      "Total duplicate records in raw 2019 data frame: 2\n",
      "--------------------------------------------------\n",
      "Total duplicate records in clean 2019 data frame: 0\n"
     ]
    }
   ],
   "source": [
    "duplicates_raw = raw_movie_data_2019[raw_movie_data_2019.duplicated(keep=False)]\n",
    "print(f\"Total duplicate records in raw 2019 data frame: {len(duplicates_raw)}\")\n",
    "print(\"-\"*50)\n",
    "\n",
    "clean_movie_data_2019 = clean_movie_data_2019.drop_duplicates(keep=False)\n",
    "\n",
    "duplicates_clean = clean_movie_data_2019[clean_movie_data_2019.duplicated(keep=False)]\n",
    "print(f\"Total duplicate records in clean 2019 data frame: {len(duplicates_clean)}\")"
   ]
  },
  {
   "cell_type": "markdown",
   "id": "31e5be3b-3edd-41b7-a7b9-e8417b6d5ab3",
   "metadata": {},
   "source": [
    "Some rows for scraping 2019 captured nothing for all rows - so it is needed to drop any rows that have ALL null rows in the data frame."
   ]
  },
  {
   "cell_type": "code",
   "execution_count": 14,
   "id": "19d26717-a148-49f4-98c8-748abe5f51dd",
   "metadata": {},
   "outputs": [
    {
     "name": "stdout",
     "output_type": "stream",
     "text": [
      "# rows where ALL values are null values\n",
      "--------------------------------------------------\n",
      "1\n",
      "\n",
      "\n",
      "length of the data frame after dropping null values\n",
      "--------------------------------------------------\n",
      "5424\n"
     ]
    }
   ],
   "source": [
    "null_rows = clean_movie_data_2019.isnull().all(axis=1).sum()\n",
    "\n",
    "print(\"# rows where ALL values are null values\")\n",
    "print(\"-\"*50)\n",
    "print(null_rows)\n",
    "print(\"\\n\")\n",
    "\n",
    "clean_movie_data_2019.dropna(how='all', inplace=True) \n",
    "\n",
    "print(\"length of the data frame after dropping null values\")\n",
    "print(\"-\"*50)\n",
    "print(len(clean_movie_data_2019))"
   ]
  },
  {
   "cell_type": "markdown",
   "id": "97fcc16c-c490-4251-ac17-0139914e194e",
   "metadata": {},
   "source": [
    "The analysis for this project is utilizing the rating data from Letterboxd, therefore any movies where the rating wasn't available are not relevant and can be dropped. "
   ]
  },
  {
   "cell_type": "code",
   "execution_count": 16,
   "id": "94b8e0d2-de54-4af4-94a1-9b768bbba4bc",
   "metadata": {},
   "outputs": [
    {
     "name": "stdout",
     "output_type": "stream",
     "text": [
      "# rows where no average rating and number ratings was available was available\n",
      "--------------------------------------------------\n"
     ]
    },
    {
     "data": {
      "text/plain": [
       "1720"
      ]
     },
     "metadata": {},
     "output_type": "display_data"
    },
    {
     "name": "stdout",
     "output_type": "stream",
     "text": [
      "\n",
      "\n",
      "length of the data frame after dropping rows with no rating data\n",
      "--------------------------------------------------\n",
      "3704\n"
     ]
    }
   ],
   "source": [
    "no_rating_data = clean_movie_data_2019[(clean_movie_data_2019['average_rating'] == 'No average rating available') & (clean_movie_data_2019['number_ratings'] == 'No number of ratings available')].index\n",
    "\n",
    "print(\"# rows where no average rating and number ratings was available was available\")\n",
    "print(\"-\"*50)\n",
    "display(len(clean_movie_data_2019.loc[no_rating_data]))\n",
    "\n",
    "### Drop these rows \n",
    "clean_movie_data_2019 = clean_movie_data_2019.drop(no_rating_data)\n",
    "\n",
    "print(\"\\n\")\n",
    "print(\"length of the data frame after dropping rows with no rating data\")\n",
    "print(\"-\"*50)\n",
    "print(len(clean_movie_data_2019))"
   ]
  },
  {
   "cell_type": "markdown",
   "id": "02305ea3-882b-4bc4-97cf-c2596b89f806",
   "metadata": {},
   "source": [
    "Remove text from 'length' column so that only the minutes numerical value is present. \\\n",
    "For example changing '164 mins More at IMDB TMDB' to '164'"
   ]
  },
  {
   "cell_type": "code",
   "execution_count": 18,
   "id": "37797559-6a1b-4db7-8484-dfef24e8d69e",
   "metadata": {},
   "outputs": [
    {
     "name": "stdout",
     "output_type": "stream",
     "text": [
      "length column before cleaning\n",
      "--------------------------------------------------\n"
     ]
    },
    {
     "data": {
      "text/plain": [
       "0    133 mins   More at IMDB TMDB\n",
       "1    122 mins   More at IMDB TMDB\n",
       "2    147 mins   More at IMDB TMDB\n",
       "3    131 mins   More at IMDB TMDB\n",
       "4    162 mins   More at IMDB TMDB\n",
       "5    135 mins   More at IMDB TMDB\n",
       "6    181 mins   More at IMDB TMDB\n",
       "7    108 mins   More at IMDB TMDB\n",
       "8    116 mins   More at IMDB TMDB\n",
       "9    109 mins   More at IMDB TMDB\n",
       "Name: length, dtype: object"
      ]
     },
     "metadata": {},
     "output_type": "display_data"
    },
    {
     "name": "stdout",
     "output_type": "stream",
     "text": [
      "\n",
      "\n",
      "length column after cleaning\n",
      "--------------------------------------------------\n"
     ]
    },
    {
     "data": {
      "text/plain": [
       "0    133\n",
       "1    122\n",
       "2    147\n",
       "3    131\n",
       "4    162\n",
       "5    135\n",
       "6    181\n",
       "7    108\n",
       "8    116\n",
       "9    109\n",
       "Name: length, dtype: object"
      ]
     },
     "metadata": {},
     "output_type": "display_data"
    }
   ],
   "source": [
    "# Keep only the numeric value from the string of text in the length column\n",
    "clean_movie_data_2019.loc[:, 'length'] = clean_movie_data_2019['length'].str.replace(r'\\D', '', regex=True)\n",
    "\n",
    "print(\"length column before cleaning\")\n",
    "print(\"-\"*50)\n",
    "display(raw_movie_data_2019['length'].head(10))\n",
    "print(\"\\n\")\n",
    "print(\"length column after cleaning\")\n",
    "print(\"-\"*50)\n",
    "display(clean_movie_data_2019['length'].head(10))"
   ]
  },
  {
   "cell_type": "markdown",
   "id": "7cef271a-548c-4f3a-9928-709fa9af72bd",
   "metadata": {},
   "source": [
    "Remove text from 'number_ratings' column to include only the numerical value for the number of ratings. \\\n",
    "For example changing 'Weighted average of 3.03 based on 288 ratings' to '288'"
   ]
  },
  {
   "cell_type": "code",
   "execution_count": 20,
   "id": "3b2a18c8-02ae-4f8a-b222-9ad4664bb622",
   "metadata": {},
   "outputs": [
    {
     "name": "stdout",
     "output_type": "stream",
     "text": [
      "number_ratings column before cleaning\n",
      "--------------------------------------------------\n"
     ]
    },
    {
     "data": {
      "text/plain": [
       "0    Weighted average of 4.55 based on 3,233,120 ra...\n",
       "1    Weighted average of 3.85 based on 3,064,771 ra...\n",
       "2    Weighted average of 3.77 based on 2,420,557 ra...\n",
       "3    Weighted average of 3.98 based on 2,583,937 ra...\n",
       "4    Weighted average of 3.76 based on 1,977,706 ra...\n",
       "5    Weighted average of 4.15 based on 1,674,110 ra...\n",
       "6    Weighted average of 3.89 based on 2,119,542 ra...\n",
       "7    Weighted average of 4.03 based on 1,524,453 ra...\n",
       "8    Weighted average of 3.66 based on 1,486,294 ra...\n",
       "9    Weighted average of 4.03 based on 1,050,960 ra...\n",
       "Name: number_ratings, dtype: object"
      ]
     },
     "metadata": {},
     "output_type": "display_data"
    },
    {
     "name": "stdout",
     "output_type": "stream",
     "text": [
      "\n",
      "\n",
      "number_ratings column after cleaning\n",
      "--------------------------------------------------\n"
     ]
    },
    {
     "data": {
      "text/plain": [
       "0    3233120\n",
       "1    3064771\n",
       "2    2420557\n",
       "3    2583937\n",
       "4    1977706\n",
       "5    1674110\n",
       "6    2119542\n",
       "7    1524453\n",
       "8    1486294\n",
       "9    1050960\n",
       "Name: number_ratings, dtype: object"
      ]
     },
     "metadata": {},
     "output_type": "display_data"
    }
   ],
   "source": [
    "# using pandas .str.extract() method to keep only the numerical value after string of text 'based on'\n",
    "\n",
    "clean_movie_data_2019['number_ratings'] = clean_movie_data_2019['number_ratings'].str.extract(r'based on ([\\d,]+)').replace({',': ''}, regex=True)\n",
    "\n",
    "print(\"number_ratings column before cleaning\")\n",
    "print(\"-\"*50)\n",
    "display(raw_movie_data_2019['number_ratings'].head(10))\n",
    "print(\"\\n\")\n",
    "print(\"number_ratings column after cleaning\")\n",
    "print(\"-\"*50)\n",
    "display(clean_movie_data_2019['number_ratings'].head(10))"
   ]
  },
  {
   "cell_type": "markdown",
   "id": "90d1ab5d-0c72-470d-84f1-7ab8cb76197c",
   "metadata": {},
   "source": [
    "Some movies have many genres (10+), for the scope of this project only keeping the first three genres is relevant. "
   ]
  },
  {
   "cell_type": "code",
   "execution_count": 22,
   "id": "7604ef1c-e957-4362-b89b-4969be693d3a",
   "metadata": {},
   "outputs": [
    {
     "name": "stdout",
     "output_type": "stream",
     "text": [
      "genres column before cleaning\n",
      "--------------------------------------------------\n"
     ]
    },
    {
     "data": {
      "text/plain": [
       "0    Comedy, Thriller, Drama, Humanity And The Worl...\n",
       "1    Crime, Drama, Thriller, Intense Violence And S...\n",
       "2    Mystery, Drama, Horror, Intense Violence And S...\n",
       "3    Mystery, Comedy, Crime, Thrillers And Murder M...\n",
       "4    Drama, Thriller, Comedy, Humanity And The Worl...\n",
       "5    Romance, History, Drama, Moving Relationship S...\n",
       "6    Science Fiction, Action, Adventure, Epic Heroe...\n",
       "7    War, Drama, Comedy, Crude Humor And Satire, Hu...\n",
       "8    Thriller, Horror, Horror, The Undead And Monst...\n",
       "9    Horror, Drama, Thriller, Fantasy, Horror, The ...\n",
       "Name: genres, dtype: object"
      ]
     },
     "metadata": {},
     "output_type": "display_data"
    },
    {
     "name": "stdout",
     "output_type": "stream",
     "text": [
      "\n",
      "\n",
      "genres column after cleaning\n",
      "--------------------------------------------------\n"
     ]
    },
    {
     "data": {
      "text/plain": [
       "0                              Comedy, Thriller, Drama\n",
       "1                               Crime, Drama, Thriller\n",
       "2                               Mystery, Drama, Horror\n",
       "3                               Mystery, Comedy, Crime\n",
       "4                              Drama, Thriller, Comedy\n",
       "5                              Romance, History, Drama\n",
       "6                   Science Fiction, Action, Adventure\n",
       "7                                   War, Drama, Comedy\n",
       "8    Thriller, Horror, The Undead And Monster Classics\n",
       "9                              Horror, Drama, Thriller\n",
       "Name: genres, dtype: object"
      ]
     },
     "metadata": {},
     "output_type": "display_data"
    }
   ],
   "source": [
    "def clean_genres(genre_str):\n",
    "    genres_list = genre_str.split(',')\n",
    "\n",
    "    # remove duplicates while preserving order \n",
    "    unique_genres = list(dict.fromkeys(genre.strip() for genre in genres_list)) \n",
    "    \n",
    "    # return only the first three unique genres \n",
    "    return ', '.join(unique_genres[:3])\n",
    "\n",
    "clean_movie_data_2019['genres'] = clean_movie_data_2019['genres'].apply(clean_genres)\n",
    "\n",
    "print(\"genres column before cleaning\")\n",
    "print(\"-\"*50)\n",
    "display(raw_movie_data_2019['genres'].head(10))\n",
    "print(\"\\n\")\n",
    "\n",
    "print(\"genres column after cleaning\")\n",
    "print(\"-\"*50)\n",
    "display(clean_movie_data_2019['genres'].head(10))"
   ]
  },
  {
   "cell_type": "markdown",
   "id": "09e02064-1df9-4d1e-a2ec-e74028c93f71",
   "metadata": {},
   "source": [
    "Correct all data types. "
   ]
  },
  {
   "cell_type": "code",
   "execution_count": 24,
   "id": "cc239229-2035-447a-9dc5-bb84e2f91408",
   "metadata": {},
   "outputs": [
    {
     "name": "stdout",
     "output_type": "stream",
     "text": [
      "data types before cleaning\n",
      "--------------------------------------------------\n",
      "title              object\n",
      "year              float64\n",
      "number_ratings     object\n",
      "average_rating     object\n",
      "length             object\n",
      "genres             object\n",
      "dtype: object\n",
      "\n",
      "\n",
      "data types after cleaning\n",
      "--------------------------------------------------\n",
      "title              object\n",
      "year                int32\n",
      "number_ratings      int32\n",
      "average_rating    float64\n",
      "length              int32\n",
      "genres             object\n",
      "dtype: object\n"
     ]
    }
   ],
   "source": [
    "print(\"data types before cleaning\")\n",
    "print(\"-\"*50)\n",
    "print(raw_movie_data_2019.dtypes)\n",
    "\n",
    "# Remove any white space from all columns with object data type \n",
    "clean_movie_data_2019['title'] = clean_movie_data_2019['title'].str.strip()\n",
    "clean_movie_data_2019['number_ratings'] = clean_movie_data_2019['number_ratings'].str.strip()\n",
    "#clean_movie_data_2019['average_rating'] = clean_movie_data_2019['average_rating'].str.strip()\n",
    "clean_movie_data_2019['length'] = clean_movie_data_2019['length'].str.strip()\n",
    "clean_movie_data_2019['genres'] = clean_movie_data_2019['genres'].str.strip()\n",
    "\n",
    "# Convert neccessary columns to numeric data type \n",
    "clean_movie_data_2019['year'] = clean_movie_data_2019['year'].astype(int)\n",
    "clean_movie_data_2019['number_ratings'] = clean_movie_data_2019['number_ratings'].astype(int)\n",
    "clean_movie_data_2019['average_rating'] = clean_movie_data_2019['average_rating'].astype(float)\n",
    "\n",
    "# There are some rows that have empty strings for length - convert these to 0's\n",
    "clean_movie_data_2019['length'] = clean_movie_data_2019['length'].replace('', 0)\n",
    "clean_movie_data_2019['length'] = clean_movie_data_2019['length'].astype(int)\n",
    "\n",
    "print(\"\\n\")\n",
    "print(\"data types after cleaning\")\n",
    "print(\"-\"*50)\n",
    "print(clean_movie_data_2019.dtypes)"
   ]
  },
  {
   "cell_type": "markdown",
   "id": "ce45dc78-cc02-4663-932c-744741034d06",
   "metadata": {},
   "source": [
    "### Final Comparison of Clean and Raw Data Frames "
   ]
  },
  {
   "cell_type": "code",
   "execution_count": 26,
   "id": "ae202004-4b9b-4a64-95cb-9745e371a641",
   "metadata": {},
   "outputs": [
    {
     "name": "stdout",
     "output_type": "stream",
     "text": [
      "Length of raw data frame: 5427\n",
      "--------------------------------------------------\n"
     ]
    },
    {
     "data": {
      "text/html": [
       "<div>\n",
       "<style scoped>\n",
       "    .dataframe tbody tr th:only-of-type {\n",
       "        vertical-align: middle;\n",
       "    }\n",
       "\n",
       "    .dataframe tbody tr th {\n",
       "        vertical-align: top;\n",
       "    }\n",
       "\n",
       "    .dataframe thead th {\n",
       "        text-align: right;\n",
       "    }\n",
       "</style>\n",
       "<table border=\"1\" class=\"dataframe\">\n",
       "  <thead>\n",
       "    <tr style=\"text-align: right;\">\n",
       "      <th></th>\n",
       "      <th>title</th>\n",
       "      <th>year</th>\n",
       "      <th>number_ratings</th>\n",
       "      <th>average_rating</th>\n",
       "      <th>length</th>\n",
       "      <th>genres</th>\n",
       "    </tr>\n",
       "  </thead>\n",
       "  <tbody>\n",
       "    <tr>\n",
       "      <th>0</th>\n",
       "      <td>Parasite</td>\n",
       "      <td>2019.0</td>\n",
       "      <td>Weighted average of 4.55 based on 3,233,120 ra...</td>\n",
       "      <td>4.6</td>\n",
       "      <td>133 mins   More at IMDB TMDB</td>\n",
       "      <td>Comedy, Thriller, Drama, Humanity And The Worl...</td>\n",
       "    </tr>\n",
       "    <tr>\n",
       "      <th>1</th>\n",
       "      <td>Joker</td>\n",
       "      <td>2019.0</td>\n",
       "      <td>Weighted average of 3.85 based on 3,064,771 ra...</td>\n",
       "      <td>3.8</td>\n",
       "      <td>122 mins   More at IMDB TMDB</td>\n",
       "      <td>Crime, Drama, Thriller, Intense Violence And S...</td>\n",
       "    </tr>\n",
       "    <tr>\n",
       "      <th>2</th>\n",
       "      <td>Midsommar</td>\n",
       "      <td>2019.0</td>\n",
       "      <td>Weighted average of 3.77 based on 2,420,557 ra...</td>\n",
       "      <td>3.8</td>\n",
       "      <td>147 mins   More at IMDB TMDB</td>\n",
       "      <td>Mystery, Drama, Horror, Intense Violence And S...</td>\n",
       "    </tr>\n",
       "    <tr>\n",
       "      <th>3</th>\n",
       "      <td>Knives Out</td>\n",
       "      <td>2019.0</td>\n",
       "      <td>Weighted average of 3.98 based on 2,583,937 ra...</td>\n",
       "      <td>4.0</td>\n",
       "      <td>131 mins   More at IMDB TMDB</td>\n",
       "      <td>Mystery, Comedy, Crime, Thrillers And Murder M...</td>\n",
       "    </tr>\n",
       "    <tr>\n",
       "      <th>4</th>\n",
       "      <td>Once Upon a Time… in Hollywood</td>\n",
       "      <td>2019.0</td>\n",
       "      <td>Weighted average of 3.76 based on 1,977,706 ra...</td>\n",
       "      <td>3.8</td>\n",
       "      <td>162 mins   More at IMDB TMDB</td>\n",
       "      <td>Drama, Thriller, Comedy, Humanity And The Worl...</td>\n",
       "    </tr>\n",
       "  </tbody>\n",
       "</table>\n",
       "</div>"
      ],
      "text/plain": [
       "                            title    year  \\\n",
       "0                        Parasite  2019.0   \n",
       "1                           Joker  2019.0   \n",
       "2                       Midsommar  2019.0   \n",
       "3                      Knives Out  2019.0   \n",
       "4  Once Upon a Time… in Hollywood  2019.0   \n",
       "\n",
       "                                      number_ratings average_rating  \\\n",
       "0  Weighted average of 4.55 based on 3,233,120 ra...            4.6   \n",
       "1  Weighted average of 3.85 based on 3,064,771 ra...            3.8   \n",
       "2  Weighted average of 3.77 based on 2,420,557 ra...            3.8   \n",
       "3  Weighted average of 3.98 based on 2,583,937 ra...            4.0   \n",
       "4  Weighted average of 3.76 based on 1,977,706 ra...            3.8   \n",
       "\n",
       "                         length  \\\n",
       "0  133 mins   More at IMDB TMDB   \n",
       "1  122 mins   More at IMDB TMDB   \n",
       "2  147 mins   More at IMDB TMDB   \n",
       "3  131 mins   More at IMDB TMDB   \n",
       "4  162 mins   More at IMDB TMDB   \n",
       "\n",
       "                                              genres  \n",
       "0  Comedy, Thriller, Drama, Humanity And The Worl...  \n",
       "1  Crime, Drama, Thriller, Intense Violence And S...  \n",
       "2  Mystery, Drama, Horror, Intense Violence And S...  \n",
       "3  Mystery, Comedy, Crime, Thrillers And Murder M...  \n",
       "4  Drama, Thriller, Comedy, Humanity And The Worl...  "
      ]
     },
     "metadata": {},
     "output_type": "display_data"
    },
    {
     "name": "stdout",
     "output_type": "stream",
     "text": [
      "\n",
      "\n",
      "Length of clean data frame: 3704\n",
      "--------------------------------------------------\n"
     ]
    },
    {
     "data": {
      "text/html": [
       "<div>\n",
       "<style scoped>\n",
       "    .dataframe tbody tr th:only-of-type {\n",
       "        vertical-align: middle;\n",
       "    }\n",
       "\n",
       "    .dataframe tbody tr th {\n",
       "        vertical-align: top;\n",
       "    }\n",
       "\n",
       "    .dataframe thead th {\n",
       "        text-align: right;\n",
       "    }\n",
       "</style>\n",
       "<table border=\"1\" class=\"dataframe\">\n",
       "  <thead>\n",
       "    <tr style=\"text-align: right;\">\n",
       "      <th></th>\n",
       "      <th>title</th>\n",
       "      <th>year</th>\n",
       "      <th>number_ratings</th>\n",
       "      <th>average_rating</th>\n",
       "      <th>length</th>\n",
       "      <th>genres</th>\n",
       "    </tr>\n",
       "  </thead>\n",
       "  <tbody>\n",
       "    <tr>\n",
       "      <th>0</th>\n",
       "      <td>Parasite</td>\n",
       "      <td>2019</td>\n",
       "      <td>3233120</td>\n",
       "      <td>4.6</td>\n",
       "      <td>133</td>\n",
       "      <td>Comedy, Thriller, Drama</td>\n",
       "    </tr>\n",
       "    <tr>\n",
       "      <th>1</th>\n",
       "      <td>Joker</td>\n",
       "      <td>2019</td>\n",
       "      <td>3064771</td>\n",
       "      <td>3.8</td>\n",
       "      <td>122</td>\n",
       "      <td>Crime, Drama, Thriller</td>\n",
       "    </tr>\n",
       "    <tr>\n",
       "      <th>2</th>\n",
       "      <td>Midsommar</td>\n",
       "      <td>2019</td>\n",
       "      <td>2420557</td>\n",
       "      <td>3.8</td>\n",
       "      <td>147</td>\n",
       "      <td>Mystery, Drama, Horror</td>\n",
       "    </tr>\n",
       "    <tr>\n",
       "      <th>3</th>\n",
       "      <td>Knives Out</td>\n",
       "      <td>2019</td>\n",
       "      <td>2583937</td>\n",
       "      <td>4.0</td>\n",
       "      <td>131</td>\n",
       "      <td>Mystery, Comedy, Crime</td>\n",
       "    </tr>\n",
       "    <tr>\n",
       "      <th>4</th>\n",
       "      <td>Once Upon a Time… in Hollywood</td>\n",
       "      <td>2019</td>\n",
       "      <td>1977706</td>\n",
       "      <td>3.8</td>\n",
       "      <td>162</td>\n",
       "      <td>Drama, Thriller, Comedy</td>\n",
       "    </tr>\n",
       "  </tbody>\n",
       "</table>\n",
       "</div>"
      ],
      "text/plain": [
       "                            title  year  number_ratings  average_rating  \\\n",
       "0                        Parasite  2019         3233120             4.6   \n",
       "1                           Joker  2019         3064771             3.8   \n",
       "2                       Midsommar  2019         2420557             3.8   \n",
       "3                      Knives Out  2019         2583937             4.0   \n",
       "4  Once Upon a Time… in Hollywood  2019         1977706             3.8   \n",
       "\n",
       "   length                   genres  \n",
       "0     133  Comedy, Thriller, Drama  \n",
       "1     122   Crime, Drama, Thriller  \n",
       "2     147   Mystery, Drama, Horror  \n",
       "3     131   Mystery, Comedy, Crime  \n",
       "4     162  Drama, Thriller, Comedy  "
      ]
     },
     "metadata": {},
     "output_type": "display_data"
    }
   ],
   "source": [
    "print(f\"Length of raw data frame: {len(raw_movie_data_2019)}\")\n",
    "print(\"-\"*50)\n",
    "display(raw_movie_data_2019.head(5))\n",
    "print(\"\\n\")\n",
    "\n",
    "print(f\"Length of clean data frame: {len(clean_movie_data_2019)}\")\n",
    "print(\"-\"*50)\n",
    "display(clean_movie_data_2019.head(5))\n"
   ]
  },
  {
   "cell_type": "markdown",
   "id": "7ecbe313-a1fd-4215-b777-bd2dc9ebeaa0",
   "metadata": {},
   "source": [
    "### Save clean complete 2019 Letterboxd movie details for 25% most popular movies to CSV file "
   ]
  },
  {
   "cell_type": "code",
   "execution_count": 28,
   "id": "c3dc85db-37db-48eb-9691-77dd62ea6e8e",
   "metadata": {},
   "outputs": [],
   "source": [
    "clean_movie_data_2019.to_csv(\"letterboxd_movie_data_2019_clean.csv\", header=True, index=False, encoding='utf-8')"
   ]
  },
  {
   "cell_type": "code",
   "execution_count": null,
   "id": "1232d3d8-7f0f-49f8-99ca-5ca35b8f8637",
   "metadata": {},
   "outputs": [],
   "source": []
  }
 ],
 "metadata": {
  "kernelspec": {
   "display_name": "Python 3 (ipykernel)",
   "language": "python",
   "name": "python3"
  },
  "language_info": {
   "codemirror_mode": {
    "name": "ipython",
    "version": 3
   },
   "file_extension": ".py",
   "mimetype": "text/x-python",
   "name": "python",
   "nbconvert_exporter": "python",
   "pygments_lexer": "ipython3",
   "version": "3.12.3"
  }
 },
 "nbformat": 4,
 "nbformat_minor": 5
}
