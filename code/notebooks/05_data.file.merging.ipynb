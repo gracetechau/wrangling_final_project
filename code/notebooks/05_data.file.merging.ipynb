{
 "cells": [
  {
   "cell_type": "markdown",
   "id": "fc76a753-37e1-408b-a086-ea4d0e787d99",
   "metadata": {},
   "source": [
    "# Grace Techau\n",
    "## Box Office Revenue & Letterboxd Ratings Project \n",
    "### NOTEBOOK 5\n",
    "### Merging Clean Letterboxd and Box Office Revenue Files "
   ]
  },
  {
   "cell_type": "code",
   "execution_count": 2,
   "id": "66da34db-a7ba-4c51-9fa9-bcb34c7eb568",
   "metadata": {},
   "outputs": [],
   "source": [
    "# import required libraries\n",
    "import pandas as pd "
   ]
  },
  {
   "cell_type": "markdown",
   "id": "407de203-87e3-422e-a392-5d437dccceca",
   "metadata": {},
   "source": [
    "### Import full clean Letterboxd data files from years 2017, 2018 and 2019 to pandas data frames"
   ]
  },
  {
   "cell_type": "code",
   "execution_count": 4,
   "id": "77363314-6984-48d0-87d8-02d5a56f3e52",
   "metadata": {},
   "outputs": [
    {
     "name": "stdout",
     "output_type": "stream",
     "text": [
      "Number of Letterboxd movies in 2017: 3252\n"
     ]
    }
   ],
   "source": [
    "letterboxd_2017 = pd.read_csv(\"letterboxd_movie_data_2017_clean.csv\", encoding='utf-8')\n",
    "\n",
    "print(f\"Number of Letterboxd movies in 2017: {len(letterboxd_2017)}\")"
   ]
  },
  {
   "cell_type": "code",
   "execution_count": 5,
   "id": "8f2ed8cc-3bc6-4f96-89d4-8433509ca450",
   "metadata": {},
   "outputs": [
    {
     "name": "stdout",
     "output_type": "stream",
     "text": [
      "Number of Letterboxd movies in 2018: 3419\n"
     ]
    }
   ],
   "source": [
    "letterboxd_2018 = pd.read_csv(\"letterboxd_movie_data_2018_clean.csv\", encoding='utf-8')\n",
    "\n",
    "print(f\"Number of Letterboxd movies in 2018: {len(letterboxd_2018)}\")"
   ]
  },
  {
   "cell_type": "code",
   "execution_count": 6,
   "id": "8ec00202-2d71-4ff8-95fd-991004b51ee3",
   "metadata": {},
   "outputs": [
    {
     "name": "stdout",
     "output_type": "stream",
     "text": [
      "Number of Letterboxd movies in 2019: 3704\n"
     ]
    }
   ],
   "source": [
    "letterboxd_2019 = pd.read_csv(\"letterboxd_movie_data_2019_clean.csv\", encoding='utf-8')\n",
    "\n",
    "print(f\"Number of Letterboxd movies in 2019: {len(letterboxd_2019)}\")"
   ]
  },
  {
   "cell_type": "markdown",
   "id": "f2766528-7609-473c-9a55-8bc32f674f4c",
   "metadata": {},
   "source": [
    "**Merge Letterboxd data frames from years 2017, 2018, and 2019 into one Letterboxd movie data frame**"
   ]
  },
  {
   "cell_type": "code",
   "execution_count": 8,
   "id": "b6c33145-3fa1-4962-aa14-f3507264fa66",
   "metadata": {},
   "outputs": [
    {
     "name": "stdout",
     "output_type": "stream",
     "text": [
      "Total number of movies scraped from Letterboxd: 10375\n",
      "--------------------------------------------------\n"
     ]
    },
    {
     "data": {
      "text/html": [
       "<div>\n",
       "<style scoped>\n",
       "    .dataframe tbody tr th:only-of-type {\n",
       "        vertical-align: middle;\n",
       "    }\n",
       "\n",
       "    .dataframe tbody tr th {\n",
       "        vertical-align: top;\n",
       "    }\n",
       "\n",
       "    .dataframe thead th {\n",
       "        text-align: right;\n",
       "    }\n",
       "</style>\n",
       "<table border=\"1\" class=\"dataframe\">\n",
       "  <thead>\n",
       "    <tr style=\"text-align: right;\">\n",
       "      <th></th>\n",
       "      <th>title</th>\n",
       "      <th>year</th>\n",
       "      <th>number_ratings</th>\n",
       "      <th>average_rating</th>\n",
       "      <th>length</th>\n",
       "      <th>genres</th>\n",
       "    </tr>\n",
       "  </thead>\n",
       "  <tbody>\n",
       "    <tr>\n",
       "      <th>0</th>\n",
       "      <td>Get Out</td>\n",
       "      <td>2017</td>\n",
       "      <td>2706282</td>\n",
       "      <td>4.2</td>\n",
       "      <td>104</td>\n",
       "      <td>Horror, Mystery, Thriller</td>\n",
       "    </tr>\n",
       "    <tr>\n",
       "      <th>1</th>\n",
       "      <td>Lady Bird</td>\n",
       "      <td>2017</td>\n",
       "      <td>2062281</td>\n",
       "      <td>3.8</td>\n",
       "      <td>94</td>\n",
       "      <td>Comedy, Drama, Moving Relationship Stories</td>\n",
       "    </tr>\n",
       "    <tr>\n",
       "      <th>2</th>\n",
       "      <td>Call Me by Your Name</td>\n",
       "      <td>2017</td>\n",
       "      <td>1687099</td>\n",
       "      <td>3.9</td>\n",
       "      <td>132</td>\n",
       "      <td>Romance, Drama, Moving Relationship Stories</td>\n",
       "    </tr>\n",
       "    <tr>\n",
       "      <th>3</th>\n",
       "      <td>Baby Driver</td>\n",
       "      <td>2017</td>\n",
       "      <td>1933993</td>\n",
       "      <td>3.7</td>\n",
       "      <td>113</td>\n",
       "      <td>Crime, Action, Drugs And Gangsters</td>\n",
       "    </tr>\n",
       "    <tr>\n",
       "      <th>4</th>\n",
       "      <td>Blade Runner 2049</td>\n",
       "      <td>2017</td>\n",
       "      <td>1411904</td>\n",
       "      <td>4.1</td>\n",
       "      <td>164</td>\n",
       "      <td>Science Fiction, Drama, Humanity And The World...</td>\n",
       "    </tr>\n",
       "  </tbody>\n",
       "</table>\n",
       "</div>"
      ],
      "text/plain": [
       "                  title  year  number_ratings  average_rating  length  \\\n",
       "0               Get Out  2017         2706282             4.2     104   \n",
       "1             Lady Bird  2017         2062281             3.8      94   \n",
       "2  Call Me by Your Name  2017         1687099             3.9     132   \n",
       "3           Baby Driver  2017         1933993             3.7     113   \n",
       "4     Blade Runner 2049  2017         1411904             4.1     164   \n",
       "\n",
       "                                              genres  \n",
       "0                          Horror, Mystery, Thriller  \n",
       "1         Comedy, Drama, Moving Relationship Stories  \n",
       "2        Romance, Drama, Moving Relationship Stories  \n",
       "3                 Crime, Action, Drugs And Gangsters  \n",
       "4  Science Fiction, Drama, Humanity And The World...  "
      ]
     },
     "metadata": {},
     "output_type": "display_data"
    }
   ],
   "source": [
    "letterboxd_merge = pd.concat([letterboxd_2017, letterboxd_2018, letterboxd_2019], axis=0, ignore_index=True)\n",
    "\n",
    "print(f\"Total number of movies scraped from Letterboxd: {len(letterboxd_merge)}\")\n",
    "print(\"-\"*50)\n",
    "display(letterboxd_merge.head(5))"
   ]
  },
  {
   "cell_type": "markdown",
   "id": "b06a2e8f-7433-40e8-879a-cf0d6dc43514",
   "metadata": {},
   "source": [
    "Since the Letterboxd data was scraped this final merge of clean data across years could  have duplicates. I removed all duplicates. "
   ]
  },
  {
   "cell_type": "code",
   "execution_count": 10,
   "id": "047468e9-6d75-4ead-af55-27cd44a6873f",
   "metadata": {},
   "outputs": [
    {
     "name": "stdout",
     "output_type": "stream",
     "text": [
      "total records: 44\n",
      "duplicate records: 22\n"
     ]
    }
   ],
   "source": [
    "duplicates = letterboxd_merge[letterboxd_merge.duplicated(keep=False)]\n",
    "\n",
    "print(f\"total records: {len(duplicates)}\")\n",
    "print(f\"duplicate records: {len(duplicates[duplicates.duplicated(keep=\"first\")])}\")\n",
    "\n",
    "letterboxd_merge = letterboxd_merge.drop_duplicates()"
   ]
  },
  {
   "cell_type": "markdown",
   "id": "90d35e1a-0731-4b6c-9f74-2c70921bfdb8",
   "metadata": {},
   "source": [
    "**Save cleaned Letterboxd data from years 2017 to 2019 into one csv file** "
   ]
  },
  {
   "cell_type": "code",
   "execution_count": 12,
   "id": "43df1406-f9eb-44a0-a9a3-45b11ca2b8b1",
   "metadata": {},
   "outputs": [],
   "source": [
    "letterboxd_merge.to_csv('letterboxd_movie_data_2017.2019_clean.csv', header=True, index=False, encoding='utf-8')"
   ]
  },
  {
   "cell_type": "code",
   "execution_count": 13,
   "id": "1dcf7ef3-11bf-49f8-8a5c-e1eeda4cdb83",
   "metadata": {},
   "outputs": [],
   "source": [
    "## Re-open the full clean CSV file to another pandas data frame for merging with Box Office Data \n",
    "\n",
    "letterboxd_data = pd.read_csv('letterboxd_movie_data_2017.2019_clean.csv', encoding='utf-8')"
   ]
  },
  {
   "cell_type": "markdown",
   "id": "8328e990-5b09-4bb0-aa46-0424b5c9d88f",
   "metadata": {},
   "source": [
    "### Import Box Office Revenue data file into pandas data frame"
   ]
  },
  {
   "cell_type": "code",
   "execution_count": 15,
   "id": "a79d44b3-5231-4bdc-937c-ca0d1f829962",
   "metadata": {},
   "outputs": [
    {
     "name": "stdout",
     "output_type": "stream",
     "text": [
      "Number of movies from Kaggle Box Office Revenue: 600\n",
      "--------------------------------------------------\n"
     ]
    },
    {
     "data": {
      "text/html": [
       "<div>\n",
       "<style scoped>\n",
       "    .dataframe tbody tr th:only-of-type {\n",
       "        vertical-align: middle;\n",
       "    }\n",
       "\n",
       "    .dataframe tbody tr th {\n",
       "        vertical-align: top;\n",
       "    }\n",
       "\n",
       "    .dataframe thead th {\n",
       "        text-align: right;\n",
       "    }\n",
       "</style>\n",
       "<table border=\"1\" class=\"dataframe\">\n",
       "  <thead>\n",
       "    <tr style=\"text-align: right;\">\n",
       "      <th></th>\n",
       "      <th>worldwide_revenue</th>\n",
       "      <th>domestic_revenue</th>\n",
       "      <th>domestic_percent</th>\n",
       "      <th>foreign_revenue</th>\n",
       "      <th>foreign_percent</th>\n",
       "      <th>year</th>\n",
       "      <th>title</th>\n",
       "    </tr>\n",
       "  </thead>\n",
       "  <tbody>\n",
       "    <tr>\n",
       "      <th>0</th>\n",
       "      <td>1332.54</td>\n",
       "      <td>620.18</td>\n",
       "      <td>0.46</td>\n",
       "      <td>712.36</td>\n",
       "      <td>0.54</td>\n",
       "      <td>2017</td>\n",
       "      <td>Star Wars: Episode VIII - The Last Jedi</td>\n",
       "    </tr>\n",
       "    <tr>\n",
       "      <th>1</th>\n",
       "      <td>1263.52</td>\n",
       "      <td>504.01</td>\n",
       "      <td>0.40</td>\n",
       "      <td>759.51</td>\n",
       "      <td>0.60</td>\n",
       "      <td>2017</td>\n",
       "      <td>Beauty and the Beast</td>\n",
       "    </tr>\n",
       "    <tr>\n",
       "      <th>2</th>\n",
       "      <td>1236.01</td>\n",
       "      <td>226.01</td>\n",
       "      <td>0.18</td>\n",
       "      <td>1010.00</td>\n",
       "      <td>0.82</td>\n",
       "      <td>2017</td>\n",
       "      <td>The Fate of the Furious</td>\n",
       "    </tr>\n",
       "    <tr>\n",
       "      <th>3</th>\n",
       "      <td>1034.80</td>\n",
       "      <td>264.62</td>\n",
       "      <td>0.26</td>\n",
       "      <td>770.18</td>\n",
       "      <td>0.74</td>\n",
       "      <td>2017</td>\n",
       "      <td>Despicable Me 3</td>\n",
       "    </tr>\n",
       "    <tr>\n",
       "      <th>4</th>\n",
       "      <td>962.08</td>\n",
       "      <td>404.52</td>\n",
       "      <td>0.42</td>\n",
       "      <td>557.56</td>\n",
       "      <td>0.58</td>\n",
       "      <td>2017</td>\n",
       "      <td>Jumanji: Welcome to the Jungle</td>\n",
       "    </tr>\n",
       "  </tbody>\n",
       "</table>\n",
       "</div>"
      ],
      "text/plain": [
       "   worldwide_revenue  domestic_revenue  domestic_percent  foreign_revenue  \\\n",
       "0            1332.54            620.18              0.46           712.36   \n",
       "1            1263.52            504.01              0.40           759.51   \n",
       "2            1236.01            226.01              0.18          1010.00   \n",
       "3            1034.80            264.62              0.26           770.18   \n",
       "4             962.08            404.52              0.42           557.56   \n",
       "\n",
       "   foreign_percent  year                                    title  \n",
       "0             0.54  2017  Star Wars: Episode VIII - The Last Jedi  \n",
       "1             0.60  2017                     Beauty and the Beast  \n",
       "2             0.82  2017                  The Fate of the Furious  \n",
       "3             0.74  2017                          Despicable Me 3  \n",
       "4             0.58  2017           Jumanji: Welcome to the Jungle  "
      ]
     },
     "metadata": {},
     "output_type": "display_data"
    }
   ],
   "source": [
    "box_office = pd.read_csv(\"box_office_revenue_2017.2019_clean.csv\", encoding='utf-8')\n",
    "\n",
    "print(f\"Number of movies from Kaggle Box Office Revenue: {len(box_office)}\")\n",
    "print(\"-\"*50)\n",
    "display(box_office.head(5))"
   ]
  },
  {
   "cell_type": "markdown",
   "id": "4e2e8920-b251-4f5f-add6-ec724606f0ff",
   "metadata": {},
   "source": [
    "## Merge Letterboxd and Box Office Revenue data frames"
   ]
  },
  {
   "cell_type": "code",
   "execution_count": 17,
   "id": "bc537d33-9fe7-4b87-ac18-7f0e70191f60",
   "metadata": {},
   "outputs": [
    {
     "name": "stdout",
     "output_type": "stream",
     "text": [
      "Number of movies in final data set: 491\n",
      "--------------------------------------------------\n"
     ]
    },
    {
     "data": {
      "text/html": [
       "<div>\n",
       "<style scoped>\n",
       "    .dataframe tbody tr th:only-of-type {\n",
       "        vertical-align: middle;\n",
       "    }\n",
       "\n",
       "    .dataframe tbody tr th {\n",
       "        vertical-align: top;\n",
       "    }\n",
       "\n",
       "    .dataframe thead th {\n",
       "        text-align: right;\n",
       "    }\n",
       "</style>\n",
       "<table border=\"1\" class=\"dataframe\">\n",
       "  <thead>\n",
       "    <tr style=\"text-align: right;\">\n",
       "      <th></th>\n",
       "      <th>worldwide_revenue</th>\n",
       "      <th>domestic_revenue</th>\n",
       "      <th>domestic_percent</th>\n",
       "      <th>foreign_revenue</th>\n",
       "      <th>foreign_percent</th>\n",
       "      <th>year</th>\n",
       "      <th>title</th>\n",
       "      <th>number_ratings</th>\n",
       "      <th>average_rating</th>\n",
       "      <th>length</th>\n",
       "      <th>genres</th>\n",
       "    </tr>\n",
       "  </thead>\n",
       "  <tbody>\n",
       "    <tr>\n",
       "      <th>0</th>\n",
       "      <td>1263.52</td>\n",
       "      <td>504.01</td>\n",
       "      <td>0.40</td>\n",
       "      <td>759.51</td>\n",
       "      <td>0.60</td>\n",
       "      <td>2017</td>\n",
       "      <td>Beauty and the Beast</td>\n",
       "      <td>495549</td>\n",
       "      <td>3.1</td>\n",
       "      <td>129</td>\n",
       "      <td>Romance, Fantasy, Family</td>\n",
       "    </tr>\n",
       "    <tr>\n",
       "      <th>1</th>\n",
       "      <td>1236.01</td>\n",
       "      <td>226.01</td>\n",
       "      <td>0.18</td>\n",
       "      <td>1010.00</td>\n",
       "      <td>0.82</td>\n",
       "      <td>2017</td>\n",
       "      <td>The Fate of the Furious</td>\n",
       "      <td>229455</td>\n",
       "      <td>2.7</td>\n",
       "      <td>136</td>\n",
       "      <td>Crime, Action, Thriller</td>\n",
       "    </tr>\n",
       "    <tr>\n",
       "      <th>2</th>\n",
       "      <td>1034.80</td>\n",
       "      <td>264.62</td>\n",
       "      <td>0.26</td>\n",
       "      <td>770.18</td>\n",
       "      <td>0.74</td>\n",
       "      <td>2017</td>\n",
       "      <td>Despicable Me 3</td>\n",
       "      <td>278201</td>\n",
       "      <td>2.6</td>\n",
       "      <td>90</td>\n",
       "      <td>Action, Animation, Family</td>\n",
       "    </tr>\n",
       "    <tr>\n",
       "      <th>3</th>\n",
       "      <td>962.08</td>\n",
       "      <td>404.52</td>\n",
       "      <td>0.42</td>\n",
       "      <td>557.56</td>\n",
       "      <td>0.58</td>\n",
       "      <td>2017</td>\n",
       "      <td>Jumanji: Welcome to the Jungle</td>\n",
       "      <td>674676</td>\n",
       "      <td>3.1</td>\n",
       "      <td>119</td>\n",
       "      <td>Fantasy, Adventure, Comedy</td>\n",
       "    </tr>\n",
       "    <tr>\n",
       "      <th>4</th>\n",
       "      <td>880.17</td>\n",
       "      <td>334.20</td>\n",
       "      <td>0.38</td>\n",
       "      <td>545.97</td>\n",
       "      <td>0.62</td>\n",
       "      <td>2017</td>\n",
       "      <td>Spider-Man: Homecoming</td>\n",
       "      <td>1688069</td>\n",
       "      <td>3.5</td>\n",
       "      <td>133</td>\n",
       "      <td>Action, Drama, Adventure</td>\n",
       "    </tr>\n",
       "  </tbody>\n",
       "</table>\n",
       "</div>"
      ],
      "text/plain": [
       "   worldwide_revenue  domestic_revenue  domestic_percent  foreign_revenue  \\\n",
       "0            1263.52            504.01              0.40           759.51   \n",
       "1            1236.01            226.01              0.18          1010.00   \n",
       "2            1034.80            264.62              0.26           770.18   \n",
       "3             962.08            404.52              0.42           557.56   \n",
       "4             880.17            334.20              0.38           545.97   \n",
       "\n",
       "   foreign_percent  year                           title  number_ratings  \\\n",
       "0             0.60  2017            Beauty and the Beast          495549   \n",
       "1             0.82  2017         The Fate of the Furious          229455   \n",
       "2             0.74  2017                 Despicable Me 3          278201   \n",
       "3             0.58  2017  Jumanji: Welcome to the Jungle          674676   \n",
       "4             0.62  2017          Spider-Man: Homecoming         1688069   \n",
       "\n",
       "   average_rating  length                      genres  \n",
       "0             3.1     129    Romance, Fantasy, Family  \n",
       "1             2.7     136     Crime, Action, Thriller  \n",
       "2             2.6      90   Action, Animation, Family  \n",
       "3             3.1     119  Fantasy, Adventure, Comedy  \n",
       "4             3.5     133    Action, Drama, Adventure  "
      ]
     },
     "metadata": {},
     "output_type": "display_data"
    }
   ],
   "source": [
    "## Use an inner join to merge the data frames on 'title' and 'year'\n",
    "## This will keep only matching rowsabs \n",
    "\n",
    "film_data = pd.merge(box_office, letterboxd_data, on=['title', 'year'], how='inner')\n",
    "\n",
    "print(f\"Number of movies in final data set: {len(film_data)}\")\n",
    "print(\"-\"*50)\n",
    "display(film_data.head(5))"
   ]
  },
  {
   "cell_type": "markdown",
   "id": "a7a2049a-cf02-4f2a-8fb2-20fafdc1ccf7",
   "metadata": {},
   "source": [
    "## Final Cleaning to Full Data Set Before Analysis "
   ]
  },
  {
   "cell_type": "code",
   "execution_count": 19,
   "id": "27dc6c62-3538-42b8-99b4-dfbd71d94699",
   "metadata": {},
   "outputs": [
    {
     "name": "stdout",
     "output_type": "stream",
     "text": [
      "Re-ordered Columns\n",
      "--------------------------------------------------\n"
     ]
    },
    {
     "data": {
      "text/html": [
       "<div>\n",
       "<style scoped>\n",
       "    .dataframe tbody tr th:only-of-type {\n",
       "        vertical-align: middle;\n",
       "    }\n",
       "\n",
       "    .dataframe tbody tr th {\n",
       "        vertical-align: top;\n",
       "    }\n",
       "\n",
       "    .dataframe thead th {\n",
       "        text-align: right;\n",
       "    }\n",
       "</style>\n",
       "<table border=\"1\" class=\"dataframe\">\n",
       "  <thead>\n",
       "    <tr style=\"text-align: right;\">\n",
       "      <th></th>\n",
       "      <th>title</th>\n",
       "      <th>year</th>\n",
       "      <th>length</th>\n",
       "      <th>worldwide_revenue</th>\n",
       "      <th>domestic_revenue</th>\n",
       "      <th>domestic_percent</th>\n",
       "      <th>foreign_revenue</th>\n",
       "      <th>foreign_percent</th>\n",
       "      <th>number_ratings</th>\n",
       "      <th>average_rating</th>\n",
       "      <th>genres</th>\n",
       "    </tr>\n",
       "  </thead>\n",
       "  <tbody>\n",
       "    <tr>\n",
       "      <th>0</th>\n",
       "      <td>Beauty and the Beast</td>\n",
       "      <td>2017</td>\n",
       "      <td>129</td>\n",
       "      <td>1263.52</td>\n",
       "      <td>504.01</td>\n",
       "      <td>0.40</td>\n",
       "      <td>759.51</td>\n",
       "      <td>0.60</td>\n",
       "      <td>495549</td>\n",
       "      <td>3.1</td>\n",
       "      <td>Romance, Fantasy, Family</td>\n",
       "    </tr>\n",
       "    <tr>\n",
       "      <th>1</th>\n",
       "      <td>The Fate of the Furious</td>\n",
       "      <td>2017</td>\n",
       "      <td>136</td>\n",
       "      <td>1236.01</td>\n",
       "      <td>226.01</td>\n",
       "      <td>0.18</td>\n",
       "      <td>1010.00</td>\n",
       "      <td>0.82</td>\n",
       "      <td>229455</td>\n",
       "      <td>2.7</td>\n",
       "      <td>Crime, Action, Thriller</td>\n",
       "    </tr>\n",
       "  </tbody>\n",
       "</table>\n",
       "</div>"
      ],
      "text/plain": [
       "                     title  year  length  worldwide_revenue  domestic_revenue  \\\n",
       "0     Beauty and the Beast  2017     129            1263.52            504.01   \n",
       "1  The Fate of the Furious  2017     136            1236.01            226.01   \n",
       "\n",
       "   domestic_percent  foreign_revenue  foreign_percent  number_ratings  \\\n",
       "0              0.40           759.51             0.60          495549   \n",
       "1              0.18          1010.00             0.82          229455   \n",
       "\n",
       "   average_rating                    genres  \n",
       "0             3.1  Romance, Fantasy, Family  \n",
       "1             2.7   Crime, Action, Thriller  "
      ]
     },
     "metadata": {},
     "output_type": "display_data"
    }
   ],
   "source": [
    "## Re-order the Columns\n",
    "\n",
    "film_data = film_data[['title', 'year', 'length', 'worldwide_revenue', 'domestic_revenue', 'domestic_percent', 'foreign_revenue', 'foreign_percent', 'number_ratings', 'average_rating', 'genres']]\n",
    "\n",
    "print(\"Re-ordered Columns\")\n",
    "print(\"-\"*50)\n",
    "display(film_data.head(2))"
   ]
  },
  {
   "cell_type": "code",
   "execution_count": 20,
   "id": "45c89aa2-6d91-48c9-b9b8-4436b61c41b7",
   "metadata": {},
   "outputs": [
    {
     "name": "stdout",
     "output_type": "stream",
     "text": [
      "total records: 491\n",
      "duplicate records: 0\n"
     ]
    }
   ],
   "source": [
    "## check for duplicates in the final data set \n",
    "\n",
    "duplicates_2 = film_data[film_data.duplicated(keep=False)]\n",
    "\n",
    "print(f\"total records: {len(film_data)}\")\n",
    "print(f\"duplicate records: {len(duplicates_2[duplicates_2.duplicated(keep=\"first\")])}\")"
   ]
  },
  {
   "cell_type": "code",
   "execution_count": 21,
   "id": "1dd57542-cf76-4d65-865d-15b68b24e5df",
   "metadata": {},
   "outputs": [
    {
     "name": "stdout",
     "output_type": "stream",
     "text": [
      "Final Data Types\n",
      "--------------------------------------------------\n",
      "title                 object\n",
      "year                   int64\n",
      "length                 int64\n",
      "worldwide_revenue    float64\n",
      "domestic_revenue     float64\n",
      "domestic_percent     float64\n",
      "foreign_revenue      float64\n",
      "foreign_percent      float64\n",
      "number_ratings         int64\n",
      "average_rating       float64\n",
      "genres                object\n",
      "dtype: object\n"
     ]
    }
   ],
   "source": [
    "## Check data types \n",
    "\n",
    "print(\"Final Data Types\")\n",
    "print(\"-\"*50)\n",
    "print(film_data.dtypes)"
   ]
  },
  {
   "cell_type": "markdown",
   "id": "6077a501-32d4-4176-bfa2-fcb85129cbac",
   "metadata": {},
   "source": [
    "## Save the clean & fully merged data frame to a CSV file "
   ]
  },
  {
   "cell_type": "code",
   "execution_count": 23,
   "id": "7a778c98-bc96-45ff-b43b-b93803aeff1a",
   "metadata": {},
   "outputs": [],
   "source": [
    "film_data.to_csv(\"2017_2019_final_film_data.csv\", header=True, index=False, encoding='utf-8')"
   ]
  },
  {
   "cell_type": "code",
   "execution_count": null,
   "id": "8b529bee-9bd5-4b9b-b532-3c8b76d2f452",
   "metadata": {},
   "outputs": [],
   "source": []
  }
 ],
 "metadata": {
  "kernelspec": {
   "display_name": "Python 3 (ipykernel)",
   "language": "python",
   "name": "python3"
  },
  "language_info": {
   "codemirror_mode": {
    "name": "ipython",
    "version": 3
   },
   "file_extension": ".py",
   "mimetype": "text/x-python",
   "name": "python",
   "nbconvert_exporter": "python",
   "pygments_lexer": "ipython3",
   "version": "3.12.3"
  }
 },
 "nbformat": 4,
 "nbformat_minor": 5
}
