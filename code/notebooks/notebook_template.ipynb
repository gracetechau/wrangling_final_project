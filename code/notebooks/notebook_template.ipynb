{
 "cells": [
  {
   "cell_type": "markdown",
   "id": "604455c3-325f-4529-9642-24415841a0db",
   "metadata": {},
   "source": [
    "# Project Name \n",
    "### Author \n",
    "### Date "
   ]
  },
  {
   "cell_type": "markdown",
   "id": "29e4c5ac-9b5c-4950-a445-1362ec5f0bce",
   "metadata": {},
   "source": [
    "**Last Modified** 11-13-2024 (created 11-13-2024)\\\n",
    "**Description** Short paragraph explaining this project "
   ]
  },
  {
   "cell_type": "markdown",
   "id": "ee0da569-ef12-4908-aa53-bf1aca0ee912",
   "metadata": {},
   "source": [
    "**Import Libraries**"
   ]
  },
  {
   "cell_type": "code",
   "execution_count": 8,
   "id": "4ac98931-4035-4d6e-883a-cebcf95b7698",
   "metadata": {},
   "outputs": [],
   "source": [
    "import pandas as pd "
   ]
  },
  {
   "cell_type": "code",
   "execution_count": null,
   "id": "306c99c2-ea65-4648-ad03-52f3b3cab1b4",
   "metadata": {},
   "outputs": [],
   "source": []
  }
 ],
 "metadata": {
  "kernelspec": {
   "display_name": "Python 3 (ipykernel)",
   "language": "python",
   "name": "python3"
  },
  "language_info": {
   "codemirror_mode": {
    "name": "ipython",
    "version": 3
   },
   "file_extension": ".py",
   "mimetype": "text/x-python",
   "name": "python",
   "nbconvert_exporter": "python",
   "pygments_lexer": "ipython3",
   "version": "3.12.3"
  }
 },
 "nbformat": 4,
 "nbformat_minor": 5
}
